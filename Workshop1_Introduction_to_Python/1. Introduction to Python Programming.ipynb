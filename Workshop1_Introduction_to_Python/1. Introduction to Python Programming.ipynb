{
 "cells": [
  {
   "cell_type": "markdown",
   "id": "c7346f57",
   "metadata": {},
   "source": [
    "# Getting Started with Coding Python! "
   ]
  },
  {
   "cell_type": "markdown",
   "id": "098ea69b",
   "metadata": {},
   "source": [
    "## What are variables?"
   ]
  },
  {
   "cell_type": "markdown",
   "id": "913e93b7",
   "metadata": {},
   "source": [
    "* A variable is a container for storing a data value.\n",
    "* Variables have a name and are associated with a value.\n",
    "* Equal sign **( = )** is used to assign values to variables."
   ]
  },
  {
   "cell_type": "code",
   "execution_count": 1,
   "id": "77ea6e08",
   "metadata": {},
   "outputs": [],
   "source": [
    "v = 10 \n",
    "\n",
    "# v is the variable name\n",
    "# '=' is the assignment operator\n",
    "# 10 is the value"
   ]
  },
  {
   "cell_type": "markdown",
   "id": "93e01e88",
   "metadata": {},
   "source": [
    "### **Variable names:**\n",
    "\n",
    "* No spaces allowed (Use underscore or init caps, example - 'my_name' or 'myName')\n",
    "* No special symbols or characters like '\"@#%^&()-/\\* except the underscore '_'\n",
    "* Cannot begin with a number but may have a number within the variable name\n",
    "* The python community by convention begin variable names with small letters but caps are allowed anywhere else"
   ]
  },
  {
   "cell_type": "code",
   "execution_count": 2,
   "id": "ec92196f",
   "metadata": {},
   "outputs": [],
   "source": [
    "my_name = 'John Smith' #Using underscore in variable name"
   ]
  },
  {
   "cell_type": "code",
   "execution_count": 3,
   "id": "d1d9310c",
   "metadata": {},
   "outputs": [
    {
     "ename": "SyntaxError",
     "evalue": "invalid syntax (1298783299.py, line 1)",
     "output_type": "error",
     "traceback": [
      "\u001b[0;36m  Cell \u001b[0;32mIn[3], line 1\u001b[0;36m\u001b[0m\n\u001b[0;31m    my name = 'John Smith' #Using space in variable name; throws an error (SyntaxError)\u001b[0m\n\u001b[0m       ^\u001b[0m\n\u001b[0;31mSyntaxError\u001b[0m\u001b[0;31m:\u001b[0m invalid syntax\n"
     ]
    }
   ],
   "source": [
    "my name = 'John Smith' #Using space in variable name; throws an error (SyntaxError)"
   ]
  },
  {
   "cell_type": "code",
   "execution_count": 4,
   "id": "3e6cba24",
   "metadata": {},
   "outputs": [],
   "source": [
    "#Example of variables with number in variable name\n",
    "\n",
    "v_1 = 8\n",
    "v_2 = 9"
   ]
  },
  {
   "cell_type": "markdown",
   "id": "47b2420c",
   "metadata": {},
   "source": [
    "To use a variable, just type out the variable name."
   ]
  },
  {
   "cell_type": "code",
   "execution_count": 6,
   "id": "0fc45efe",
   "metadata": {},
   "outputs": [
    {
     "name": "stdout",
     "output_type": "stream",
     "text": [
      "John Smith\n"
     ]
    }
   ],
   "source": [
    "print(my_name)"
   ]
  },
  {
   "cell_type": "code",
   "execution_count": 7,
   "id": "b492ca70",
   "metadata": {},
   "outputs": [],
   "source": [
    "age = v_1 + v_2"
   ]
  },
  {
   "cell_type": "code",
   "execution_count": 8,
   "id": "de67848b",
   "metadata": {},
   "outputs": [
    {
     "name": "stdout",
     "output_type": "stream",
     "text": [
      "I am 17 years old.\n"
     ]
    }
   ],
   "source": [
    "print ('I am', age, 'years old.')"
   ]
  },
  {
   "cell_type": "markdown",
   "id": "f07546eb",
   "metadata": {},
   "source": [
    "**Note**: The print function is used to output data. It's a great way to see what your code is doing.\n",
    "\n",
    "It is a function that displays its arguments (inputs). It can take multiple arguments (inputs) separated by commas ','.\n",
    "\n",
    "We will introduce functions later."
   ]
  },
  {
   "cell_type": "markdown",
   "id": "f31192b0",
   "metadata": {},
   "source": [
    "## **Comments**\n",
    "\n",
    "* Single line commenting symbol is the hash symbol '#'\n",
    "* The interpreter ignores everything after #\n",
    "* Leave comments in your code to make it understandable to other team members and for yourself"
   ]
  },
  {
   "cell_type": "code",
   "execution_count": 8,
   "id": "891b9a62",
   "metadata": {},
   "outputs": [],
   "source": [
    "# This is a single-line comment"
   ]
  },
  {
   "cell_type": "markdown",
   "id": "537f1e75",
   "metadata": {},
   "source": [
    "* Multi-line - Not supported in Python\n",
    "* Use the # on each line of a multiline comment"
   ]
  },
  {
   "cell_type": "code",
   "execution_count": 9,
   "id": "9ce6ab84",
   "metadata": {},
   "outputs": [],
   "source": [
    "# This is a multiline comment\n",
    "# This line and the line above are both ignored by the interpreter"
   ]
  },
  {
   "cell_type": "markdown",
   "id": "771ad551",
   "metadata": {},
   "source": [
    "### 💡📝 Exercise 1: Calculate and Display Your Age in the Future. "
   ]
  },
  {
   "cell_type": "code",
   "execution_count": 10,
   "id": "b281f6ac",
   "metadata": {},
   "outputs": [
    {
     "name": "stdout",
     "output_type": "stream",
     "text": [
      "Your current age is: 25\n",
      "In the year 2030 you will be 31 years old.\n"
     ]
    }
   ],
   "source": [
    "# Current year\n",
    "current_year = 2024\n",
    "\n",
    "# Your current age\n",
    "current_age = 25 #Change the value in \"current_age\" as per your age. \n",
    "\n",
    "# Future year for which we want to calculate age\n",
    "future_year = 2030\n",
    "\n",
    "# Calculating future age\n",
    "# This is done by subtracting the current year from the future year and adding the result to the current age\n",
    "future_age = current_age + (future_year - current_year)\n",
    "\n",
    "# Printing the results\n",
    "print(\"Your current age is:\", current_age)\n",
    "print(\"In the year\", future_year, \"you will be\", future_age, \"years old.\")\n"
   ]
  },
  {
   "cell_type": "markdown",
   "id": "45d0a57d",
   "metadata": {},
   "source": [
    "## Operators in Python"
   ]
  },
  {
   "cell_type": "markdown",
   "id": "45d88e9c",
   "metadata": {},
   "source": [
    "Python operators are used to perform operations on variables and values."
   ]
  },
  {
   "cell_type": "markdown",
   "id": "0d455782",
   "metadata": {},
   "source": [
    "### Arithmetic Operators"
   ]
  },
  {
   "cell_type": "code",
   "execution_count": 11,
   "id": "c122338c",
   "metadata": {},
   "outputs": [
    {
     "name": "stdout",
     "output_type": "stream",
     "text": [
      "5 + 3 = 8\n",
      "5 - 3 = 2\n",
      "5 * 3 = 15\n",
      "5 / 3 = 1.6666666666666667\n",
      "5 % 3 = 2\n",
      "5 ** 3 = 125\n",
      "5 // 3 = 1\n"
     ]
    }
   ],
   "source": [
    "# Addition\n",
    "print(\"5 + 3 =\", 5 + 3)\n",
    "\n",
    "# Subtraction\n",
    "print(\"5 - 3 =\", 5 - 3)\n",
    "\n",
    "# Multiplication\n",
    "print(\"5 * 3 =\", 5 * 3)\n",
    "\n",
    "# Division\n",
    "print(\"5 / 3 =\", 5 / 3)\n",
    "\n",
    "# Modulus\n",
    "print(\"5 % 3 =\", 5 % 3)\n",
    "\n",
    "# Exponentiation\n",
    "print(\"5 ** 3 =\", 5 ** 3)\n",
    "\n",
    "# Floor Division\n",
    "print(\"5 // 3 =\", 5 // 3)"
   ]
  },
  {
   "cell_type": "markdown",
   "id": "f09f0881",
   "metadata": {},
   "source": [
    "### Comparison Operators"
   ]
  },
  {
   "cell_type": "code",
   "execution_count": 12,
   "id": "e4a404dc",
   "metadata": {},
   "outputs": [
    {
     "name": "stdout",
     "output_type": "stream",
     "text": [
      "x == y is False\n",
      "x != y is True\n",
      "x > y is False\n",
      "x < y is True\n",
      "x >= y is False\n",
      "x <= y is True\n"
     ]
    }
   ],
   "source": [
    "x = 10\n",
    "y = 12\n",
    "\n",
    "# Equal\n",
    "print(\"x == y is\", x == y)\n",
    "\n",
    "# Not Equal\n",
    "print(\"x != y is\", x != y)\n",
    "\n",
    "# Greater Than\n",
    "print(\"x > y is\", x > y)\n",
    "\n",
    "# Less Than\n",
    "print(\"x < y is\", x < y)\n",
    "\n",
    "# Greater Than or Equal to\n",
    "print(\"x >= y is\", x >= y)\n",
    "\n",
    "# Less Than or Equal to\n",
    "print(\"x <= y is\", x <= y)"
   ]
  },
  {
   "cell_type": "markdown",
   "id": "f1364b9c",
   "metadata": {},
   "source": [
    "### Logical Operators"
   ]
  },
  {
   "cell_type": "code",
   "execution_count": 13,
   "id": "f3e02b95",
   "metadata": {},
   "outputs": [
    {
     "name": "stdout",
     "output_type": "stream",
     "text": [
      "x and y is False\n",
      "x or y is True\n",
      "not x is False\n"
     ]
    }
   ],
   "source": [
    "x = True\n",
    "y = False\n",
    "\n",
    "# and Operator\n",
    "print(\"x and y is\", x and y)\n",
    "\n",
    "# or Operator\n",
    "print(\"x or y is\", x or y)\n",
    "\n",
    "# not Operator\n",
    "print(\"not x is\", not x)"
   ]
  },
  {
   "cell_type": "markdown",
   "id": "25955813",
   "metadata": {},
   "source": [
    "## Data Types"
   ]
  },
  {
   "cell_type": "markdown",
   "id": "aaa46bde",
   "metadata": {},
   "source": [
    "### 1. Integer (`int`)\n",
    "\n",
    "* No decimal points.\n",
    "* Can be of any length (as long as it fits in memory).\n",
    "* Can be used in arithmetic operations."
   ]
  },
  {
   "cell_type": "code",
   "execution_count": 14,
   "id": "9e8266e0",
   "metadata": {},
   "outputs": [
    {
     "name": "stdout",
     "output_type": "stream",
     "text": [
      "x is of type: <class 'int'>\n",
      "y is of type: <class 'int'>\n",
      "z is of type: <class 'int'>\n"
     ]
    }
   ],
   "source": [
    "# Integer examples\n",
    "x = 10\n",
    "y = -3\n",
    "z = 0\n",
    "\n",
    "print(\"x is of type:\", type(x))\n",
    "print(\"y is of type:\", type(y))\n",
    "print(\"z is of type:\", type(z))"
   ]
  },
  {
   "cell_type": "markdown",
   "id": "20e78e73",
   "metadata": {},
   "source": [
    "### 2. Floating Point Number (`float`)\n",
    "\n",
    "* Contains a decimal point.\n",
    "* Can represent very large or very small numbers using exponential form (e or E). For example, 1.2e34."
   ]
  },
  {
   "cell_type": "code",
   "execution_count": 15,
   "id": "0579e19e",
   "metadata": {},
   "outputs": [
    {
     "name": "stdout",
     "output_type": "stream",
     "text": [
      "a is of type: <class 'float'>\n",
      "b is of type: <class 'float'>\n",
      "c is of type: <class 'float'>\n"
     ]
    }
   ],
   "source": [
    "# Float examples\n",
    "a = 10.5\n",
    "b = -0.5\n",
    "c = 1.2e34\n",
    "\n",
    "print(\"a is of type:\", type(a))\n",
    "print(\"b is of type:\", type(b))\n",
    "print(\"c is of type:\", type(c))"
   ]
  },
  {
   "cell_type": "code",
   "execution_count": 16,
   "id": "bb43fd17",
   "metadata": {},
   "outputs": [
    {
     "name": "stdout",
     "output_type": "stream",
     "text": [
      "Float to Integer: 10\n",
      "Integer to Float: 10.0\n"
     ]
    }
   ],
   "source": [
    "# Converting float to integer\n",
    "float_to_int = int(a)\n",
    "print(\"Float to Integer:\", float_to_int)\n",
    "\n",
    "# Converting integer to float\n",
    "int_to_float = float(x)\n",
    "print(\"Integer to Float:\", int_to_float)"
   ]
  },
  {
   "cell_type": "markdown",
   "id": "e7b9633b",
   "metadata": {},
   "source": [
    "### 3. Strings (`str`)"
   ]
  },
  {
   "cell_type": "markdown",
   "id": "087d152a",
   "metadata": {},
   "source": [
    "* In Python, strings are used to store and manipulate text data. \n",
    "* A string is a sequence of characters enclosed in quotes (either single ' or double \" quotes). "
   ]
  },
  {
   "cell_type": "markdown",
   "id": "55e85113",
   "metadata": {},
   "source": [
    "#### Creating Strings:\n",
    "\n",
    "Strings can be created by enclosing characters inside quotes. Python treats single and double quotes the same."
   ]
  },
  {
   "cell_type": "code",
   "execution_count": 17,
   "id": "b77383f2",
   "metadata": {},
   "outputs": [
    {
     "name": "stdout",
     "output_type": "stream",
     "text": [
      "Hello\n",
      "World\n"
     ]
    }
   ],
   "source": [
    "# String examples\n",
    "string_with_single_quotes = 'Hello'\n",
    "string_with_double_quotes = \"World\"\n",
    "\n",
    "print(string_with_single_quotes)\n",
    "print(string_with_double_quotes)"
   ]
  },
  {
   "cell_type": "markdown",
   "id": "b816246e",
   "metadata": {},
   "source": [
    "Strings are **Immutable**. Immutability in Python means that once a string is created, it cannot be modified or changed. Any operation that appears to modify a string actually creates a new string. This concept is fundamental to understanding how strings work in Python."
   ]
  },
  {
   "cell_type": "code",
   "execution_count": 19,
   "id": "538f7bef",
   "metadata": {},
   "outputs": [
    {
     "ename": "TypeError",
     "evalue": "'str' object does not support item assignment",
     "output_type": "error",
     "traceback": [
      "\u001b[0;31m---------------------------------------------------------------------------\u001b[0m",
      "\u001b[0;31mTypeError\u001b[0m                                 Traceback (most recent call last)",
      "Cell \u001b[0;32mIn[19], line 6\u001b[0m\n\u001b[1;32m      2\u001b[0m original_string \u001b[38;5;241m=\u001b[39m \u001b[38;5;124m\"\u001b[39m\u001b[38;5;124mHello, World!\u001b[39m\u001b[38;5;124m\"\u001b[39m\n\u001b[1;32m      4\u001b[0m \u001b[38;5;66;03m# Attempt to change a character within the string\u001b[39;00m\n\u001b[1;32m      5\u001b[0m \u001b[38;5;66;03m# This will result in an error because strings are immutable\u001b[39;00m\n\u001b[0;32m----> 6\u001b[0m original_string[\u001b[38;5;241m0\u001b[39m] \u001b[38;5;241m=\u001b[39m \u001b[38;5;124m'\u001b[39m\u001b[38;5;124mJ\u001b[39m\u001b[38;5;124m'\u001b[39m\n",
      "\u001b[0;31mTypeError\u001b[0m: 'str' object does not support item assignment"
     ]
    }
   ],
   "source": [
    "# Define a string\n",
    "original_string = \"Hello, World!\"\n",
    "\n",
    "# Attempt to change a character within the string\n",
    "# This will result in an error because strings are immutable\n",
    "original_string[0] = 'J'  # This will raise a TypeError"
   ]
  },
  {
   "cell_type": "markdown",
   "id": "8531a800",
   "metadata": {},
   "source": [
    "#### Accessing and Slicing Strings:\n",
    "\n",
    "You can access characters in a string by indexing (starting from 0) and slice strings to create substrings."
   ]
  },
  {
   "cell_type": "code",
   "execution_count": 21,
   "id": "74f88c02",
   "metadata": {},
   "outputs": [
    {
     "name": "stdout",
     "output_type": "stream",
     "text": [
      "First character: P\n",
      "Substring: thon P\n"
     ]
    }
   ],
   "source": [
    "example_string = \"Python Programming\"\n",
    "\n",
    "# Accessing first character\n",
    "first_char = example_string[0]\n",
    "\n",
    "# Slicing from 3rd to 8th character\n",
    "substring = example_string[2:8]\n",
    "\n",
    "print(\"First character:\", first_char)\n",
    "print(\"Substring:\", substring)"
   ]
  },
  {
   "cell_type": "markdown",
   "id": "df4e5880",
   "metadata": {},
   "source": [
    "#### String Concatenation and Repetition:\n",
    "\n",
    "Strings can be concatenated using `+` and repeated using `*`."
   ]
  },
  {
   "cell_type": "code",
   "execution_count": 22,
   "id": "d37919da",
   "metadata": {},
   "outputs": [
    {
     "name": "stdout",
     "output_type": "stream",
     "text": [
      "Full Name: John Doe\n",
      "Repeated Name: JohnJohnJohn\n"
     ]
    }
   ],
   "source": [
    "first_name = \"John\"\n",
    "last_name = \"Doe\"\n",
    "\n",
    "# Concatenation\n",
    "full_name = first_name + \" \" + last_name\n",
    "\n",
    "# Repetition\n",
    "repeated_name = first_name * 3\n",
    "\n",
    "print(\"Full Name:\", full_name)\n",
    "print(\"Repeated Name:\", repeated_name)"
   ]
  },
  {
   "cell_type": "markdown",
   "id": "985e0d1f",
   "metadata": {},
   "source": [
    "To achieve the desired result of changing a character in a string, without the \"TypeError\"... "
   ]
  },
  {
   "cell_type": "code",
   "execution_count": 23,
   "id": "840e7b2f",
   "metadata": {},
   "outputs": [
    {
     "name": "stdout",
     "output_type": "stream",
     "text": [
      "Jello, World!\n"
     ]
    }
   ],
   "source": [
    "# Define a string\n",
    "original_string = \"Hello, World!\"\n",
    "\n",
    "# Create a new string with the desired modification\n",
    "new_string = \"J\" + original_string[1:]\n",
    "\n",
    "# Print the new string\n",
    "print(new_string)  # Output: \"Jello, World!\""
   ]
  },
  {
   "cell_type": "markdown",
   "id": "1a64ee8f",
   "metadata": {},
   "source": [
    "#### Common String Methods:\n",
    "\n",
    "Python provides a variety of built-in methods for common string manipulations."
   ]
  },
  {
   "cell_type": "code",
   "execution_count": 22,
   "id": "5a127ad6",
   "metadata": {},
   "outputs": [
    {
     "name": "stdout",
     "output_type": "stream",
     "text": [
      "Capitalized: Hello world\n",
      "Upper Case: HELLO WORLD\n",
      "Replaced String: hello Python\n"
     ]
    }
   ],
   "source": [
    "sample_string = \"hello world\"\n",
    "\n",
    "# Capitalize\n",
    "capitalized = sample_string.capitalize()\n",
    "\n",
    "# Upper case\n",
    "upper_case = sample_string.upper()\n",
    "\n",
    "# Replace\n",
    "replaced_string = sample_string.replace(\"world\", \"Python\")\n",
    "\n",
    "print(\"Capitalized:\", capitalized)\n",
    "print(\"Upper Case:\", upper_case)\n",
    "print(\"Replaced String:\", replaced_string)"
   ]
  },
  {
   "cell_type": "markdown",
   "id": "a3d75791",
   "metadata": {},
   "source": [
    "### 💡📝 Exercise 2: Name and Hobby. "
   ]
  },
  {
   "cell_type": "code",
   "execution_count": 24,
   "id": "6e22611d",
   "metadata": {},
   "outputs": [
    {
     "name": "stdout",
     "output_type": "stream",
     "text": [
      "My name is Alice and I enjoy reading.\n"
     ]
    }
   ],
   "source": [
    "# Storing name and hobby\n",
    "name = \"Alice\"  # replace with your name or a fictional name\n",
    "hobby = \"reading\"  # replace with your hobby\n",
    "\n",
    "# Creating a sentence\n",
    "sentence = \"My name is \" + name + \" and I enjoy \" + hobby + \".\"\n",
    "\n",
    "# Printing the sentence\n",
    "print(sentence)"
   ]
  },
  {
   "cell_type": "markdown",
   "id": "17f4ef6f",
   "metadata": {},
   "source": [
    "## Control Flow "
   ]
  },
  {
   "cell_type": "markdown",
   "id": "7aad972b",
   "metadata": {},
   "source": [
    "A program’s control flow is the order in which the program’s code executes.\n",
    "\n",
    "The control flow of a Python program is regulated by conditional statements, loops, and function calls.\n",
    "\n",
    "Python has three types of control structures:\n",
    "\n",
    "* Sequential - default mode\n",
    "* Selection - used for decisions and branching\n",
    "* Repetition - used for looping, i.e., repeating a piece of code multiple times."
   ]
  },
  {
   "cell_type": "markdown",
   "id": "64ac5afd",
   "metadata": {},
   "source": [
    "### 1. Sequential: \n",
    "\n",
    "Sequential statements are a set of statements whose execution process happens in a sequence. The problem with sequential statements is that if the logic has broken in any one of the lines, then the complete source code execution will break."
   ]
  },
  {
   "cell_type": "code",
   "execution_count": 2,
   "id": "f53412c7",
   "metadata": {},
   "outputs": [
    {
     "name": "stdout",
     "output_type": "stream",
     "text": [
      "Subtraction is : 10\n"
     ]
    }
   ],
   "source": [
    "## This is a Sequential statement\n",
    " \n",
    "a = 20\n",
    "b = 10\n",
    "c = a - b\n",
    "\n",
    "print(\"Subtraction is :\", c)"
   ]
  },
  {
   "cell_type": "markdown",
   "id": "06329194",
   "metadata": {},
   "source": [
    "### 2. Selection: \n",
    "\n",
    "In Python, the selection statements are also known as Decision control statements or branching statements.\n",
    "The selection statement allows a program to test several conditions and execute instructions based on which condition is true.\n"
   ]
  },
  {
   "cell_type": "markdown",
   "id": "7b8afef3",
   "metadata": {},
   "source": [
    "### If statement:\n",
    "\n",
    "It help us to run a particular code, but only when a certain condition is met or satisfied. A if only has one condition to check."
   ]
  },
  {
   "cell_type": "markdown",
   "id": "e600bf07",
   "metadata": {},
   "source": [
    "<img src=\"Images/Screenshot%202024-01-18%20at%207.52.54%20AM.png\" alt=\"My Image\" width=\"300\"/>"
   ]
  },
  {
   "cell_type": "code",
   "execution_count": 4,
   "id": "4ab6b264",
   "metadata": {},
   "outputs": [],
   "source": [
    "x = 2\n",
    "if x > 5:\n",
    "    print(\"x is greater than 5\")"
   ]
  },
  {
   "cell_type": "markdown",
   "id": "bb64a648",
   "metadata": {},
   "source": [
    "### If-else statement:\n",
    "\n",
    "The if-else statement evaluates the condition and will execute the body of if if the test condition is True, but if the condition is False, then the body of else is executed."
   ]
  },
  {
   "cell_type": "markdown",
   "id": "debed35f",
   "metadata": {},
   "source": [
    "<img src=\"Images/Screenshot%202024-01-18%20at%208.01.28%20AM.png\" alt=\"My Image\" width=\"300\"/>"
   ]
  },
  {
   "cell_type": "code",
   "execution_count": 6,
   "id": "7961a642",
   "metadata": {},
   "outputs": [
    {
     "name": "stdout",
     "output_type": "stream",
     "text": [
      "x is not greater than 5\n"
     ]
    }
   ],
   "source": [
    "x = 2\n",
    "if x > 5:\n",
    "    print(\"x is greater than 5\")\n",
    "else:\n",
    "    print(\"x is not greater than 5\")"
   ]
  },
  {
   "cell_type": "markdown",
   "id": "b0c2a559",
   "metadata": {},
   "source": [
    "### If-elif-else statement:\n",
    "\n",
    "The if-elif-else chain is used for checking multiple conditions. It runs each condition until one is true or runs the else block if none are true."
   ]
  },
  {
   "cell_type": "markdown",
   "id": "85f7a3e8",
   "metadata": {},
   "source": [
    "<img src=\"Images/Screenshot%202024-01-18%20at%208.03.42 AM.png\" alt=\"My Image\" width=\"500\"/>"
   ]
  },
  {
   "cell_type": "code",
   "execution_count": 7,
   "id": "f326e8f1",
   "metadata": {},
   "outputs": [
    {
     "name": "stdout",
     "output_type": "stream",
     "text": [
      "z is between 5 and 10\n"
     ]
    }
   ],
   "source": [
    "z = 7\n",
    "if z > 10:\n",
    "    print(\"z is greater than 10\")\n",
    "elif z < 5:\n",
    "    print(\"z is less than 5\")\n",
    "else:\n",
    "    print(\"z is between 5 and 10\")"
   ]
  },
  {
   "cell_type": "markdown",
   "id": "1ecf147f",
   "metadata": {},
   "source": [
    "### 3. Repetition\n",
    "\n",
    "A repetition statement is used to repeat a group (block) of programming instructions.\n",
    "\n",
    "### for loop\n",
    "\n",
    "A way to repeat a block of code a specific number of times. \n",
    "\n",
    "<img src=\"Images/Screenshot%202024-01-18%20at%208.12.33%20AM.png\" alt=\"My Image\" width=\"300\"/>"
   ]
  },
  {
   "cell_type": "code",
   "execution_count": 8,
   "id": "4984e75a",
   "metadata": {},
   "outputs": [
    {
     "name": "stdout",
     "output_type": "stream",
     "text": [
      "0\n",
      "1\n",
      "2\n",
      "3\n",
      "4\n"
     ]
    }
   ],
   "source": [
    "for i in range(5):\n",
    "    print(i)"
   ]
  },
  {
   "cell_type": "markdown",
   "id": "bc96dbee",
   "metadata": {},
   "source": [
    "`for`: Tells us we’re going to loop through one by one\n",
    "\n",
    "`i`: A variable that helps us keep track of where we are (index)\n",
    "\n",
    "`(5)`: Number of iterations; can be a variable, as long as it’s an int!\n",
    "\n",
    "`range`: Built-in function\n",
    " * iterates through 0,1,2,3,4\n",
    " * assumes 0 is the start index\n",
    " * end_index is not inclusive!"
   ]
  },
  {
   "cell_type": "markdown",
   "id": "5d01096f",
   "metadata": {},
   "source": [
    "### while loop\n",
    "\n",
    "while loops repeatedly execute a block of code as long as a condition is true.\n",
    "\n",
    "<img src=\"Images/Screenshot%202024-01-18%20at%208.14.10%20AM.png\" alt=\"My Image\" width=\"300\"/>"
   ]
  },
  {
   "cell_type": "code",
   "execution_count": 9,
   "id": "e699307d",
   "metadata": {},
   "outputs": [
    {
     "name": "stdout",
     "output_type": "stream",
     "text": [
      "0\n",
      "1\n",
      "2\n"
     ]
    }
   ],
   "source": [
    "count = 0\n",
    "while count < 3:\n",
    "    print(count)\n",
    "    count = count + 1"
   ]
  },
  {
   "cell_type": "markdown",
   "id": "bf78d3b3",
   "metadata": {},
   "source": [
    "### 💡📝 Exercise 3: Write a program that prints all integers between 100 and 125 (including 100 and 125) to the screen using a for loop. Also, can you print even numbers from 100 to 125? [Hint: range function takes third argument that specifies the step (increments by 2 for even numbers)]\n",
    "\n",
    "### 💡📝 Exercise 4: Do the same as exercise 3 (not the even number part), but this time use a while loop.\n",
    "\n",
    "A similar solution is provided below to print numbers from 1 to 10. "
   ]
  },
  {
   "cell_type": "code",
   "execution_count": 30,
   "id": "02943443",
   "metadata": {},
   "outputs": [
    {
     "name": "stdout",
     "output_type": "stream",
     "text": [
      "1\n",
      "2\n",
      "3\n",
      "4\n",
      "5\n",
      "6\n",
      "7\n",
      "8\n",
      "9\n",
      "10\n"
     ]
    }
   ],
   "source": [
    "for i in range(1, 11):\n",
    "    print (i)"
   ]
  },
  {
   "cell_type": "code",
   "execution_count": 10,
   "id": "9f916c96",
   "metadata": {},
   "outputs": [
    {
     "name": "stdout",
     "output_type": "stream",
     "text": [
      "1\n",
      "2\n",
      "3\n",
      "4\n",
      "5\n",
      "6\n",
      "7\n",
      "8\n",
      "9\n",
      "10\n"
     ]
    }
   ],
   "source": [
    "i = 1\n",
    "while i < 11:\n",
    "    print (i)\n",
    "    i = i + 1"
   ]
  },
  {
   "cell_type": "markdown",
   "id": "6b0db55d",
   "metadata": {},
   "source": [
    "## Data Structures in Python\n",
    "\n",
    "In Python, data structures are used to store and organize data in a way that facilitates efficient access and modification. There are several built-in data structures in Python, each with its own characteristics and use-cases."
   ]
  },
  {
   "cell_type": "markdown",
   "id": "d480816e",
   "metadata": {},
   "source": [
    "### 1. List"
   ]
  },
  {
   "cell_type": "markdown",
   "id": "8bdfc9f7",
   "metadata": {},
   "source": [
    "* Description: A list is a collection that is ordered and changeable. It allows duplicate members.\n",
    "* Common Uses: Lists are used for storing a sequence of elements that need to be accessed by their position or index.\n",
    "* Creating lists - Put comma separated values within square brackets. Values can be of different data types."
   ]
  },
  {
   "cell_type": "code",
   "execution_count": 11,
   "id": "36677be0",
   "metadata": {},
   "outputs": [],
   "source": [
    "list1 = ['physics', 'astronomy', 56.98, 'MJ', -9.36]\n",
    "\n",
    "# list within a list\n",
    "list2 = ['chemistry', 'biology', 77.98, [3, 4, 65], 'EE', -56]"
   ]
  },
  {
   "cell_type": "markdown",
   "id": "e715052a",
   "metadata": {},
   "source": [
    "#### Accessing values in a list via indexing: \n",
    "    \n",
    "* Same as String objects.\n",
    "* Elements or a range of elements can be accessed by index."
   ]
  },
  {
   "cell_type": "code",
   "execution_count": 12,
   "id": "7ebce3e1",
   "metadata": {},
   "outputs": [
    {
     "data": {
      "text/plain": [
       "'physics'"
      ]
     },
     "execution_count": 12,
     "metadata": {},
     "output_type": "execute_result"
    }
   ],
   "source": [
    "list1[0]"
   ]
  },
  {
   "cell_type": "code",
   "execution_count": 13,
   "id": "8384469b",
   "metadata": {},
   "outputs": [
    {
     "data": {
      "text/plain": [
       "'astronomy'"
      ]
     },
     "execution_count": 13,
     "metadata": {},
     "output_type": "execute_result"
    }
   ],
   "source": [
    "list1[1]"
   ]
  },
  {
   "cell_type": "code",
   "execution_count": 35,
   "id": "b73f685a",
   "metadata": {},
   "outputs": [
    {
     "data": {
      "text/plain": [
       "-9.36"
      ]
     },
     "execution_count": 35,
     "metadata": {},
     "output_type": "execute_result"
    }
   ],
   "source": [
    "list1[4]"
   ]
  },
  {
   "cell_type": "code",
   "execution_count": 36,
   "id": "62333d7a",
   "metadata": {},
   "outputs": [
    {
     "data": {
      "text/plain": [
       "-9.36"
      ]
     },
     "execution_count": 36,
     "metadata": {},
     "output_type": "execute_result"
    }
   ],
   "source": [
    "list1[-1]"
   ]
  },
  {
   "cell_type": "code",
   "execution_count": 37,
   "id": "90d60b72",
   "metadata": {},
   "outputs": [
    {
     "data": {
      "text/plain": [
       "'r'"
      ]
     },
     "execution_count": 37,
     "metadata": {},
     "output_type": "execute_result"
    }
   ],
   "source": [
    "list1[1][3]"
   ]
  },
  {
   "cell_type": "code",
   "execution_count": 38,
   "id": "50194c2e",
   "metadata": {},
   "outputs": [
    {
     "data": {
      "text/plain": [
       "[3, 4, 65]"
      ]
     },
     "execution_count": 38,
     "metadata": {},
     "output_type": "execute_result"
    }
   ],
   "source": [
    "list2[3]"
   ]
  },
  {
   "cell_type": "code",
   "execution_count": 39,
   "id": "91a63a91",
   "metadata": {},
   "outputs": [
    {
     "data": {
      "text/plain": [
       "65"
      ]
     },
     "execution_count": 39,
     "metadata": {},
     "output_type": "execute_result"
    }
   ],
   "source": [
    "list2[3][2]"
   ]
  },
  {
   "cell_type": "code",
   "execution_count": 40,
   "id": "420b8de2",
   "metadata": {},
   "outputs": [
    {
     "data": {
      "text/plain": [
       "['physics', 'astronomy', 56.98, 'MJ']"
      ]
     },
     "execution_count": 40,
     "metadata": {},
     "output_type": "execute_result"
    }
   ],
   "source": [
    "list1[0:4]"
   ]
  },
  {
   "cell_type": "code",
   "execution_count": 41,
   "id": "e0f8aa15",
   "metadata": {},
   "outputs": [
    {
     "data": {
      "text/plain": [
       "[[3, 4, 65], 'EE']"
      ]
     },
     "execution_count": 41,
     "metadata": {},
     "output_type": "execute_result"
    }
   ],
   "source": [
    "list2[3:5]"
   ]
  },
  {
   "cell_type": "code",
   "execution_count": 42,
   "id": "44476b37",
   "metadata": {},
   "outputs": [
    {
     "data": {
      "text/plain": [
       "[1, 2, 3, 5, 6, 7]"
      ]
     },
     "execution_count": 42,
     "metadata": {},
     "output_type": "execute_result"
    }
   ],
   "source": [
    "[1,2,3] + [5,6,7] #List Concatenation "
   ]
  },
  {
   "cell_type": "code",
   "execution_count": 43,
   "id": "d3930233",
   "metadata": {},
   "outputs": [
    {
     "data": {
      "text/plain": [
       "['physics',\n",
       " 'astronomy',\n",
       " 56.98,\n",
       " 'MJ',\n",
       " -9.36,\n",
       " 'chemistry',\n",
       " 'biology',\n",
       " 77.98,\n",
       " [3, 4, 65],\n",
       " 'EE',\n",
       " -56]"
      ]
     },
     "execution_count": 43,
     "metadata": {},
     "output_type": "execute_result"
    }
   ],
   "source": [
    "list1 + list2"
   ]
  },
  {
   "cell_type": "markdown",
   "id": "434c06df",
   "metadata": {},
   "source": [
    "#### Some Lists Methods"
   ]
  },
  {
   "cell_type": "code",
   "execution_count": 44,
   "id": "116985d6",
   "metadata": {},
   "outputs": [
    {
     "data": {
      "text/plain": [
       "5"
      ]
     },
     "execution_count": 44,
     "metadata": {},
     "output_type": "execute_result"
    }
   ],
   "source": [
    "#Length of the list\n",
    "len(list1)"
   ]
  },
  {
   "cell_type": "code",
   "execution_count": 45,
   "id": "6dbfab5e",
   "metadata": {},
   "outputs": [
    {
     "data": {
      "text/plain": [
       "67"
      ]
     },
     "execution_count": 45,
     "metadata": {},
     "output_type": "execute_result"
    }
   ],
   "source": [
    "#Maximum/Minimum value\n",
    "list3 = [3, 4, 67, 2, 1]\n",
    "list4 = ['3', '4', '67', '2', '1', 'four', 'three']\n",
    "\n",
    "max(list3)"
   ]
  },
  {
   "cell_type": "code",
   "execution_count": 46,
   "id": "d5e9da98",
   "metadata": {},
   "outputs": [
    {
     "data": {
      "text/plain": [
       "1"
      ]
     },
     "execution_count": 46,
     "metadata": {},
     "output_type": "execute_result"
    }
   ],
   "source": [
    "min(list3)"
   ]
  },
  {
   "cell_type": "code",
   "execution_count": 47,
   "id": "811a4be0",
   "metadata": {},
   "outputs": [
    {
     "data": {
      "text/plain": [
       "['3', '4', '67', '2', '1', 'four', 'three', 'two', 'three']"
      ]
     },
     "execution_count": 47,
     "metadata": {},
     "output_type": "execute_result"
    }
   ],
   "source": [
    "#Append object to list\n",
    "list4.append('two')\n",
    "list4.append('three')\n",
    "list4"
   ]
  },
  {
   "cell_type": "code",
   "execution_count": 48,
   "id": "a8bcfe13",
   "metadata": {},
   "outputs": [
    {
     "data": {
      "text/plain": [
       "['3', '4', '67', '56', '2', '1', 'four', 'three', 'two', 'three']"
      ]
     },
     "execution_count": 48,
     "metadata": {},
     "output_type": "execute_result"
    }
   ],
   "source": [
    "#Insert object to list\n",
    "list4.insert(3, '56') #(index,value)\n",
    "list4"
   ]
  },
  {
   "cell_type": "code",
   "execution_count": 49,
   "id": "92dad27a",
   "metadata": {},
   "outputs": [
    {
     "data": {
      "text/plain": [
       "2"
      ]
     },
     "execution_count": 49,
     "metadata": {},
     "output_type": "execute_result"
    }
   ],
   "source": [
    "#Frequency of object\n",
    "list4.count('three')"
   ]
  },
  {
   "cell_type": "code",
   "execution_count": 50,
   "id": "6074c426",
   "metadata": {},
   "outputs": [
    {
     "data": {
      "text/plain": [
       "5"
      ]
     },
     "execution_count": 50,
     "metadata": {},
     "output_type": "execute_result"
    }
   ],
   "source": [
    "#Return index\n",
    "list4.index('1')"
   ]
  },
  {
   "cell_type": "code",
   "execution_count": 51,
   "id": "148f7abd",
   "metadata": {},
   "outputs": [
    {
     "data": {
      "text/plain": [
       "[3, 4, 67, 2, 1]"
      ]
     },
     "execution_count": 51,
     "metadata": {},
     "output_type": "execute_result"
    }
   ],
   "source": [
    "#Delete object: by index position\n",
    "list3"
   ]
  },
  {
   "cell_type": "code",
   "execution_count": 52,
   "id": "32bc29b0",
   "metadata": {},
   "outputs": [
    {
     "data": {
      "text/plain": [
       "2"
      ]
     },
     "execution_count": 52,
     "metadata": {},
     "output_type": "execute_result"
    }
   ],
   "source": [
    "list3.pop(3)"
   ]
  },
  {
   "cell_type": "code",
   "execution_count": 53,
   "id": "1b39ee99",
   "metadata": {},
   "outputs": [
    {
     "data": {
      "text/plain": [
       "[3, 4, 67, 1]"
      ]
     },
     "execution_count": 53,
     "metadata": {},
     "output_type": "execute_result"
    }
   ],
   "source": [
    "list3"
   ]
  },
  {
   "cell_type": "code",
   "execution_count": 54,
   "id": "477cbc54",
   "metadata": {},
   "outputs": [],
   "source": [
    "#Delete object: by element referencing\n",
    "list3.remove(67)"
   ]
  },
  {
   "cell_type": "code",
   "execution_count": 55,
   "id": "4a5277b5",
   "metadata": {},
   "outputs": [
    {
     "data": {
      "text/plain": [
       "[3, 4, 1]"
      ]
     },
     "execution_count": 55,
     "metadata": {},
     "output_type": "execute_result"
    }
   ],
   "source": [
    "list3"
   ]
  },
  {
   "cell_type": "code",
   "execution_count": 56,
   "id": "0cb5cdb1",
   "metadata": {},
   "outputs": [
    {
     "data": {
      "text/plain": [
       "[1, 4, 3]"
      ]
     },
     "execution_count": 56,
     "metadata": {},
     "output_type": "execute_result"
    }
   ],
   "source": [
    "#Reverse a list\n",
    "list3.reverse()\n",
    "list3"
   ]
  },
  {
   "cell_type": "code",
   "execution_count": 57,
   "id": "92bf2ebe",
   "metadata": {},
   "outputs": [
    {
     "data": {
      "text/plain": [
       "[1, 3, 4]"
      ]
     },
     "execution_count": 57,
     "metadata": {},
     "output_type": "execute_result"
    }
   ],
   "source": [
    "#Sort the list\n",
    "list3.sort()\n",
    "list3"
   ]
  },
  {
   "cell_type": "code",
   "execution_count": 58,
   "id": "58df6fff",
   "metadata": {},
   "outputs": [
    {
     "data": {
      "text/plain": [
       "[1, 3, 5]"
      ]
     },
     "execution_count": 58,
     "metadata": {},
     "output_type": "execute_result"
    }
   ],
   "source": [
    "#Lists are \"MUTABLE\"\n",
    "list3[2] = 5\n",
    "list3"
   ]
  },
  {
   "cell_type": "markdown",
   "id": "96c127eb",
   "metadata": {},
   "source": [
    "#### List Comprehension\n",
    "\n",
    "When programming, frequently we want to transform one type of data into another. As a simple example, consider the following code that computes square numbers:"
   ]
  },
  {
   "cell_type": "code",
   "execution_count": 59,
   "id": "7a97c787",
   "metadata": {},
   "outputs": [
    {
     "name": "stdout",
     "output_type": "stream",
     "text": [
      "[0, 1, 4, 9, 16]\n"
     ]
    }
   ],
   "source": [
    "nums = [0, 1, 2, 3, 4]\n",
    "squares = []\n",
    "for x in nums:\n",
    "    squares.append(x ** 2)\n",
    "print(squares)"
   ]
  },
  {
   "cell_type": "code",
   "execution_count": 60,
   "id": "8a3e0819",
   "metadata": {},
   "outputs": [
    {
     "name": "stdout",
     "output_type": "stream",
     "text": [
      "[0, 1, 4, 9, 16]\n"
     ]
    }
   ],
   "source": [
    "nums = [0, 1, 2, 3, 4]\n",
    "squares = [x ** 2 for x in nums]\n",
    "print(squares)"
   ]
  },
  {
   "cell_type": "code",
   "execution_count": 61,
   "id": "fa40f2a2",
   "metadata": {},
   "outputs": [
    {
     "name": "stdout",
     "output_type": "stream",
     "text": [
      "[0, 4, 16]\n"
     ]
    }
   ],
   "source": [
    "#List comprehensions can also contain conditions:\n",
    "\n",
    "nums = [0, 1, 2, 3, 4]\n",
    "even_squares = [x ** 2 for x in nums if x % 2 == 0]\n",
    "print(even_squares)"
   ]
  },
  {
   "cell_type": "markdown",
   "id": "ebe714cc",
   "metadata": {},
   "source": [
    "### 2. Tuples"
   ]
  },
  {
   "cell_type": "markdown",
   "id": "54c40d3c",
   "metadata": {},
   "source": [
    "* Description: A tuple is a collection that is ordered and unchangeable. It also allows duplicate members.\n",
    "* Common Uses: Tuples are used when you need an ordered collection that cannot be changed, such as a set of constant values.\n",
    "\n",
    "* Thus, tuples are sequences, just like lists except: \n",
    "\n",
    "    - Tuples are immutable - cannot be changed or updated like lists.\n",
    "    - Tuples use parentheses ( ), whereas lists use square brackets [ ]."
   ]
  },
  {
   "cell_type": "code",
   "execution_count": 62,
   "id": "8096fd70",
   "metadata": {},
   "outputs": [],
   "source": [
    "tup = (3, 4, 67, 2, 1)"
   ]
  },
  {
   "cell_type": "code",
   "execution_count": 63,
   "id": "327c5655",
   "metadata": {},
   "outputs": [
    {
     "ename": "TypeError",
     "evalue": "'tuple' object does not support item assignment",
     "output_type": "error",
     "traceback": [
      "\u001b[0;31m---------------------------------------------------------------------------\u001b[0m",
      "\u001b[0;31mTypeError\u001b[0m                                 Traceback (most recent call last)",
      "Cell \u001b[0;32mIn[63], line 1\u001b[0m\n\u001b[0;32m----> 1\u001b[0m tup[\u001b[38;5;241m2\u001b[39m] \u001b[38;5;241m=\u001b[39m \u001b[38;5;241m8\u001b[39m\n",
      "\u001b[0;31mTypeError\u001b[0m: 'tuple' object does not support item assignment"
     ]
    }
   ],
   "source": [
    "tup[2] = 8"
   ]
  },
  {
   "cell_type": "markdown",
   "id": "18632921",
   "metadata": {},
   "source": [
    "### 3. Sets\n",
    "\n",
    "* Description: A set is a collection that is unordered, unindexed, and unchangeable, but new items can be added. Sets do not allow duplicate elements.\n",
    "* Common Uses: Sets are used for membership testing, removing duplicates from a sequence, and computing mathematical operations like intersection, union, difference, and symmetric difference.\n",
    "* Sets are defined using '{ }'."
   ]
  },
  {
   "cell_type": "code",
   "execution_count": 64,
   "id": "b3e81615",
   "metadata": {},
   "outputs": [
    {
     "name": "stdout",
     "output_type": "stream",
     "text": [
      "True\n",
      "False\n"
     ]
    }
   ],
   "source": [
    "animals = {'cat', 'dog'}\n",
    "print('cat' in animals)   # Check if an element is in a set; prints \"True\"\n",
    "print('fish' in animals)  # prints \"False\""
   ]
  },
  {
   "cell_type": "code",
   "execution_count": 65,
   "id": "ec66bfb6",
   "metadata": {},
   "outputs": [
    {
     "name": "stdout",
     "output_type": "stream",
     "text": [
      "True\n",
      "3\n"
     ]
    }
   ],
   "source": [
    "animals.add('fish')      # Add an element to a set\n",
    "print('fish' in animals)\n",
    "print(len(animals))       # Number of elements in a set;"
   ]
  },
  {
   "cell_type": "code",
   "execution_count": 66,
   "id": "65a185bf",
   "metadata": {},
   "outputs": [
    {
     "name": "stdout",
     "output_type": "stream",
     "text": [
      "3\n",
      "2\n"
     ]
    }
   ],
   "source": [
    "animals.add('cat')       # Adding an element that is already in the set does nothing\n",
    "print(len(animals))       \n",
    "animals.remove('cat')    # Remove an element from a set\n",
    "print(len(animals))   "
   ]
  },
  {
   "cell_type": "markdown",
   "id": "5f272161",
   "metadata": {},
   "source": [
    "Iterating over a set has the same syntax as iterating over a list; however since sets are unordered, you cannot make assumptions about the order in which you visit the elements of the set:"
   ]
  },
  {
   "cell_type": "code",
   "execution_count": 67,
   "id": "ebc57fff",
   "metadata": {},
   "outputs": [
    {
     "name": "stdout",
     "output_type": "stream",
     "text": [
      "#1: fish\n",
      "#2: dog\n",
      "#3: cat\n"
     ]
    }
   ],
   "source": [
    "animals = {'cat', 'dog', 'fish'}\n",
    "for idx, animal in enumerate(animals):\n",
    "    print('#{}: {}'.format(idx + 1, animal))"
   ]
  },
  {
   "cell_type": "markdown",
   "id": "d0f18319",
   "metadata": {},
   "source": [
    "Like lists, we can easily construct sets using set comprehensions:"
   ]
  },
  {
   "cell_type": "code",
   "execution_count": 68,
   "id": "0005d2b6",
   "metadata": {},
   "outputs": [
    {
     "name": "stdout",
     "output_type": "stream",
     "text": [
      "{0, 1, 2, 3, 4, 5}\n"
     ]
    }
   ],
   "source": [
    "from math import sqrt\n",
    "print({int(sqrt(x)) for x in range(30)})"
   ]
  },
  {
   "cell_type": "markdown",
   "id": "1d78974c",
   "metadata": {},
   "source": [
    "### 4. Dictionary\n",
    "\n",
    "* Description: A dictionary is a collection that is ordered (as of Python 3.7) and changeable. It stores data in key-value pairs.\n",
    "* Common Uses: Dictionaries are used when you need a logical association between a key:value pair. They are optimized for retrieving data when you know the key.\n",
    "* Similar to a list except values are accessed by looking up a **key** instead of an index.\n",
    "* A key can be a string or number.\n",
    "* Creating dictionaries - **key-value** pairs are separated by colons (**:**), items are separated by commas (**,**) and everything is enclosed in curly braces { }."
   ]
  },
  {
   "cell_type": "code",
   "execution_count": 69,
   "id": "3cce0ce0",
   "metadata": {},
   "outputs": [
    {
     "name": "stdout",
     "output_type": "stream",
     "text": [
      "cute\n",
      "True\n"
     ]
    }
   ],
   "source": [
    "d = {'cat': 'cute', 'dog': 'furry'}  # Create a new dictionary with some data\n",
    "print(d['cat'])       # Get an entry from a dictionary; prints \"cute\"\n",
    "print('cat' in d)     # Check if a dictionary has a given key; prints \"True\""
   ]
  },
  {
   "cell_type": "code",
   "execution_count": 70,
   "id": "6ebd5858",
   "metadata": {},
   "outputs": [],
   "source": [
    "d2 = {'name':'Francis','age':60,'job':'Car designer','brand':'Jaguar','worked-for':['Ford','TWR','Aston Martin']}"
   ]
  },
  {
   "cell_type": "code",
   "execution_count": 71,
   "id": "bad33f52",
   "metadata": {},
   "outputs": [
    {
     "data": {
      "text/plain": [
       "['Ford', 'TWR', 'Aston Martin']"
      ]
     },
     "execution_count": 71,
     "metadata": {},
     "output_type": "execute_result"
    }
   ],
   "source": [
    "d2['worked-for']"
   ]
  },
  {
   "cell_type": "code",
   "execution_count": 72,
   "id": "79b6bd62",
   "metadata": {},
   "outputs": [
    {
     "data": {
      "text/plain": [
       "'TWR'"
      ]
     },
     "execution_count": 72,
     "metadata": {},
     "output_type": "execute_result"
    }
   ],
   "source": [
    "d2['worked-for'][1]"
   ]
  },
  {
   "cell_type": "code",
   "execution_count": 73,
   "id": "226675e1",
   "metadata": {},
   "outputs": [
    {
     "name": "stdout",
     "output_type": "stream",
     "text": [
      "{'cat': 'cute', 'dog': 'furry', 'fish': 'wet'}\n",
      "wet\n"
     ]
    }
   ],
   "source": [
    "#Dictionaries are MUTABLE.\n",
    "\n",
    "d['fish'] = 'wet'    # Set an entry in a dictionary\n",
    "print(d)\n",
    "print(d['fish'])      # Prints \"wet\""
   ]
  },
  {
   "cell_type": "code",
   "execution_count": 74,
   "id": "7f89e2d9",
   "metadata": {},
   "outputs": [
    {
     "name": "stdout",
     "output_type": "stream",
     "text": [
      "{'cat': 'cute', 'dog': 'furry', 'fish': 'water'}\n",
      "water\n"
     ]
    }
   ],
   "source": [
    "d['fish'] = 'water'    # Modify an entry \n",
    "print(d)\n",
    "print(d['fish'])      # Prints \"water\""
   ]
  },
  {
   "cell_type": "code",
   "execution_count": 75,
   "id": "6c9b0792",
   "metadata": {},
   "outputs": [
    {
     "ename": "KeyError",
     "evalue": "'monkey'",
     "output_type": "error",
     "traceback": [
      "\u001b[0;31m---------------------------------------------------------------------------\u001b[0m",
      "\u001b[0;31mKeyError\u001b[0m                                  Traceback (most recent call last)",
      "Cell \u001b[0;32mIn[75], line 1\u001b[0m\n\u001b[0;32m----> 1\u001b[0m \u001b[38;5;28mprint\u001b[39m(d[\u001b[38;5;124m'\u001b[39m\u001b[38;5;124mmonkey\u001b[39m\u001b[38;5;124m'\u001b[39m])\n",
      "\u001b[0;31mKeyError\u001b[0m: 'monkey'"
     ]
    }
   ],
   "source": [
    "print(d['monkey'])  # KeyError: 'monkey' not a key of d"
   ]
  },
  {
   "cell_type": "markdown",
   "id": "186f32a2",
   "metadata": {},
   "source": [
    "#### Some dictionary methods"
   ]
  },
  {
   "cell_type": "code",
   "execution_count": 76,
   "id": "c7d8669d",
   "metadata": {},
   "outputs": [
    {
     "data": {
      "text/plain": [
       "3"
      ]
     },
     "execution_count": 76,
     "metadata": {},
     "output_type": "execute_result"
    }
   ],
   "source": [
    "#Length of a dictionary\n",
    "dict1 = {\"name\":\"Daniel\",\"age\":23,\"degree\":\"MS\"}\n",
    "dict2 = {'name':'Francis','age':60,'job':'Car designer','brand':'Jaguar','worked-for':['Ford','TWR','Aston Martin']}\n",
    "\n",
    "len(dict1)\n"
   ]
  },
  {
   "cell_type": "code",
   "execution_count": 77,
   "id": "47afcd03",
   "metadata": {},
   "outputs": [
    {
     "data": {
      "text/plain": [
       "'Daniel'"
      ]
     },
     "execution_count": 77,
     "metadata": {},
     "output_type": "execute_result"
    }
   ],
   "source": [
    "#Return value with get method\n",
    "\n",
    "dict1.get('name')"
   ]
  },
  {
   "cell_type": "code",
   "execution_count": 78,
   "id": "41d81e72",
   "metadata": {},
   "outputs": [
    {
     "data": {
      "text/plain": [
       "dict_items([('name', 'Daniel'), ('age', 23), ('degree', 'MS')])"
      ]
     },
     "execution_count": 78,
     "metadata": {},
     "output_type": "execute_result"
    }
   ],
   "source": [
    "#List of key-value pairs\n",
    "\n",
    "dict1.items()"
   ]
  },
  {
   "cell_type": "code",
   "execution_count": 79,
   "id": "58f288c9",
   "metadata": {},
   "outputs": [
    {
     "data": {
      "text/plain": [
       "dict_keys(['name', 'age', 'degree'])"
      ]
     },
     "execution_count": 79,
     "metadata": {},
     "output_type": "execute_result"
    }
   ],
   "source": [
    "#List of keys\n",
    "\n",
    "dict1.keys()"
   ]
  },
  {
   "cell_type": "code",
   "execution_count": 80,
   "id": "1edfe17a",
   "metadata": {},
   "outputs": [
    {
     "data": {
      "text/plain": [
       "dict_values(['Daniel', 23, 'MS'])"
      ]
     },
     "execution_count": 80,
     "metadata": {},
     "output_type": "execute_result"
    }
   ],
   "source": [
    "#List of values\n",
    "\n",
    "dict1.values()"
   ]
  },
  {
   "cell_type": "markdown",
   "id": "dc22fefe",
   "metadata": {},
   "source": [
    "Dictionary comprehensions: These are similar to list comprehensions, but allow you to easily construct dictionaries. For example:\n",
    "\n"
   ]
  },
  {
   "cell_type": "code",
   "execution_count": 81,
   "id": "5b24bbba",
   "metadata": {},
   "outputs": [
    {
     "name": "stdout",
     "output_type": "stream",
     "text": [
      "{0: 0, 2: 4, 4: 16}\n"
     ]
    }
   ],
   "source": [
    "nums = [0, 1, 2, 3, 4]\n",
    "even_num_to_square = {x: x ** 2 for x in nums if x % 2 == 0}\n",
    "print(even_num_to_square)"
   ]
  },
  {
   "cell_type": "markdown",
   "id": "577d618d",
   "metadata": {},
   "source": [
    "### 💡📝 Exercise 5: Print the largest element in a given list. \n"
   ]
  },
  {
   "cell_type": "code",
   "execution_count": 82,
   "id": "d144cf3c",
   "metadata": {},
   "outputs": [
    {
     "data": {
      "text/plain": [
       "42"
      ]
     },
     "execution_count": 82,
     "metadata": {},
     "output_type": "execute_result"
    }
   ],
   "source": [
    "#Here's a helper code to get the smallest element in the list.\n",
    "\n",
    "list_numbers = [67, 42, 53, 74, 55]\n",
    "list_numbers.sort()\n",
    "list_numbers[0]"
   ]
  },
  {
   "cell_type": "markdown",
   "id": "53dd426a",
   "metadata": {},
   "source": [
    "### 💡📝 Exercise 6: Fruit Count Dictionary.\n",
    "\n",
    "You have a list of fruits, and you want to create a dictionary to store the count of each type of fruit in the list. Write Python code to create a dictionary named `fruit_counts` that counts the occurrences of each fruit in the list.\n",
    "\n",
    "fruits = ['apple', 'banana', 'orange', 'apple', 'banana', 'apple', 'pear']"
   ]
  },
  {
   "cell_type": "code",
   "execution_count": 83,
   "id": "3fef85ab",
   "metadata": {},
   "outputs": [],
   "source": [
    "#output: {'apple': 3, 'banana': 2, 'orange': 1, 'pear': 1}"
   ]
  },
  {
   "cell_type": "code",
   "execution_count": 84,
   "id": "daecc57c",
   "metadata": {},
   "outputs": [
    {
     "name": "stdout",
     "output_type": "stream",
     "text": [
      "{'apple': 3, 'banana': 2, 'orange': 1, 'pear': 1}\n"
     ]
    }
   ],
   "source": [
    "# Step 1: Initialize an empty dictionary\n",
    "fruit_counts = {}\n",
    "\n",
    "# Step 2: Create a list of fruits\n",
    "fruits = ['apple', 'banana', 'orange', 'apple', 'banana', 'apple', 'pear']\n",
    "\n",
    "# Step 3: Iterate through the list of fruits\n",
    "for fruit in fruits:\n",
    "    # Step 4: Check if the fruit is in the dictionary and update the count\n",
    "    if fruit in fruit_counts:\n",
    "        fruit_counts[fruit] += 1\n",
    "    else:\n",
    "        # If the fruit is not in the dictionary, add it with an initial count of 1\n",
    "        fruit_counts[fruit] = 1\n",
    "\n",
    "# Step 5: Print the fruit_counts dictionary\n",
    "print(fruit_counts)"
   ]
  },
  {
   "cell_type": "markdown",
   "id": "da5a8885",
   "metadata": {},
   "source": [
    "## Functions in Python\n",
    "\n",
    "* In Python, a function is a block of code that performs a specific task or set of tasks. \n",
    "* Functions allow you to write reusable code, making your programs more organized and efficient.\n",
    "* Functions in Python are defined using the def keyword, followed by the function name and parentheses which can contain parameters. "
   ]
  },
  {
   "cell_type": "markdown",
   "id": "c4b32c07",
   "metadata": {},
   "source": [
    "### Function Analogy "
   ]
  },
  {
   "cell_type": "markdown",
   "id": "d03f01bd",
   "metadata": {},
   "source": [
    "<img src=\"Images/Screenshot%202024-01-29%20at%209.11.48%20PM.png\" alt=\"My Image\" width=\"400\"/>"
   ]
  },
  {
   "cell_type": "markdown",
   "id": "1a3d49d0",
   "metadata": {},
   "source": [
    "<img src=\"Images/Screenshot%202024-01-29%20at%209.11.54%20PM.png\" alt=\"My Image\" width=\"500\"/>"
   ]
  },
  {
   "cell_type": "markdown",
   "id": "c3b95d19",
   "metadata": {},
   "source": [
    "<img src=\"Images/Screenshot%202024-01-29%20at%209.12.00%20PM.png\" alt=\"My Image\" width=\"700\"/>"
   ]
  },
  {
   "cell_type": "markdown",
   "id": "0599ce0d",
   "metadata": {},
   "source": [
    "#### Function definition:"
   ]
  },
  {
   "cell_type": "code",
   "execution_count": 85,
   "id": "97c30563",
   "metadata": {},
   "outputs": [],
   "source": [
    "# def function_name(param1, param2):\n",
    "#     result = do something\n",
    "#     return result"
   ]
  },
  {
   "cell_type": "markdown",
   "id": "eceef59b",
   "metadata": {},
   "source": [
    "* `function_name`: name\n",
    "* `param1, param2`: parameters (input expected): One or more variables that a function expects as input.\n",
    "* `result`: output/return value"
   ]
  },
  {
   "cell_type": "markdown",
   "id": "ff804d58",
   "metadata": {},
   "source": [
    "<img src=\"Images/Screenshot%202024-01-29%20at%209.16.00%20PM.png\" alt=\"My Image\" width=\"700\"/>"
   ]
  },
  {
   "cell_type": "markdown",
   "id": "de1f4b45",
   "metadata": {},
   "source": [
    "### 💡📝 Exercise 7: Find the function definition, function name, parameter(s), and return value in average."
   ]
  },
  {
   "cell_type": "code",
   "execution_count": 86,
   "id": "ea15bdf9",
   "metadata": {},
   "outputs": [],
   "source": [
    "def main():\n",
    "    mid = average(10.6, 7.2)\n",
    "    print(mid)\n",
    "\n",
    "def average(a, b):\n",
    "    sum = a + b\n",
    "    return sum / 2"
   ]
  },
  {
   "cell_type": "code",
   "execution_count": 87,
   "id": "1da5c1dc",
   "metadata": {},
   "outputs": [],
   "source": [
    "# Function definition:\n",
    "\n",
    "# Name: \n",
    "\n",
    "# Parameters: \n",
    "\n",
    "# Return value: "
   ]
  },
  {
   "cell_type": "markdown",
   "id": "1a365261",
   "metadata": {},
   "source": [
    "### Anatomy of a function:\n",
    "\n",
    "* Return value: Value that a function hands back to the “calling” function. \n",
    "* main() is the caller (calling function); average is the callee (called function).\n",
    "* mid = average(10.6, 7.2) is the function call. \n",
    "* 10.6, 7.2 are the arguments. \n",
    "\n",
    "* What’s the difference between arguments and parameters?\n",
    "    - parameters are the name of input values in the function definition.\n",
    "    - arguments are the values passed in when function is called!"
   ]
  },
  {
   "cell_type": "markdown",
   "id": "aa4e3e1a",
   "metadata": {},
   "source": [
    "### How to use Functions: "
   ]
  },
  {
   "cell_type": "code",
   "execution_count": 88,
   "id": "6a60140d",
   "metadata": {},
   "outputs": [],
   "source": [
    "def my_function():\n",
    "    # code goes here\n",
    "    print(\"Hello from a function\")"
   ]
  },
  {
   "cell_type": "code",
   "execution_count": 89,
   "id": "e1f0ccde",
   "metadata": {},
   "outputs": [
    {
     "name": "stdout",
     "output_type": "stream",
     "text": [
      "Hello from a function\n"
     ]
    }
   ],
   "source": [
    "my_function()  # Output: Hello from a function"
   ]
  },
  {
   "cell_type": "code",
   "execution_count": 90,
   "id": "95092a12",
   "metadata": {},
   "outputs": [
    {
     "name": "stdout",
     "output_type": "stream",
     "text": [
      "7\n"
     ]
    }
   ],
   "source": [
    "def add_numbers(a, b):\n",
    "    return a + b\n",
    "\n",
    "result = add_numbers(3, 4)\n",
    "print(result)  # Output: 7"
   ]
  },
  {
   "cell_type": "markdown",
   "id": "2e077390",
   "metadata": {},
   "source": [
    "### Variable Scope\n",
    "\n",
    "Variable scope refers to the areas in your code where a variable can be accessed. There are two main scopes:\n",
    "There are two main scopes:\n",
    "\n",
    "1. Local Scope: The variable is only accessible within the function where it is defined.\n",
    "2. Global Scope: The variable is accessible anywhere in the program."
   ]
  },
  {
   "cell_type": "code",
   "execution_count": 91,
   "id": "a8e23ac6",
   "metadata": {},
   "outputs": [
    {
     "name": "stdout",
     "output_type": "stream",
     "text": [
      "5\n"
     ]
    }
   ],
   "source": [
    "def my_function():\n",
    "    local_variable = 5\n",
    "    print(local_variable)  # Output: 5\n",
    "\n",
    "my_function()\n",
    "# print(local_variable)  # This would cause an error because local_variable is not accessible outside the function."
   ]
  },
  {
   "cell_type": "code",
   "execution_count": 92,
   "id": "842448d1",
   "metadata": {},
   "outputs": [
    {
     "name": "stdout",
     "output_type": "stream",
     "text": [
      "10\n",
      "10\n"
     ]
    }
   ],
   "source": [
    "global_variable = 10\n",
    "\n",
    "def my_function():\n",
    "    print(global_variable)  # Output: 10\n",
    "\n",
    "my_function()\n",
    "print(global_variable)  # Output: 10"
   ]
  },
  {
   "cell_type": "markdown",
   "id": "a7adaa23",
   "metadata": {},
   "source": [
    "### 💡📝 Exercise 8: Temperature Converter\n",
    "\n",
    "Create a function named `convert_temperature` that converts a temperature from Fahrenheit to Celsius."
   ]
  },
  {
   "cell_type": "code",
   "execution_count": 93,
   "id": "ff937374",
   "metadata": {},
   "outputs": [],
   "source": [
    "# def convert_temperature(fahrenheit):\n",
    "#     # Hint: Use the formula Celsius = (Fahrenheit - 32) * 5/9 to convert the temperature.\n",
    "#     # Make sure to return the result.\n",
    "\n",
    "# # Example test\n",
    "# fahrenheit_temperature = 68\n",
    "# celsius_temperature = convert_temperature(fahrenheit_temperature)\n",
    "# celsius_temperature"
   ]
  },
  {
   "cell_type": "markdown",
   "id": "910f15f8",
   "metadata": {},
   "source": [
    "### 💡📝 Exercise 9: Average Calculator\n",
    "\n",
    "1. Create a Function: Write a function named calculate_average that accepts a list of numbers and returns the average.\n",
    "2. Local Variable: Inside the function, create a local variable sum to hold the sum of the numbers.\n",
    "3. Global Variable: Define a global variable data which is a list of numbers.\n",
    "4. Call the Function: Call calculate_average using data and print the result.\n",
    "5. Bonus: Handle an empty list gracefully by returning None."
   ]
  },
  {
   "cell_type": "code",
   "execution_count": 94,
   "id": "e472d82a",
   "metadata": {},
   "outputs": [
    {
     "data": {
      "text/plain": [
       "3.0"
      ]
     },
     "execution_count": 94,
     "metadata": {},
     "output_type": "execute_result"
    }
   ],
   "source": [
    "# Defining the global variable 'data'\n",
    "data = [1, 2, 3, 4, 5]\n",
    "\n",
    "def calculate_average(numbers):\n",
    "    if not numbers:  # Check if the list is empty\n",
    "        return None\n",
    "    sum = 0  # Initializing the local variable 'sum'\n",
    "    for number in numbers:\n",
    "        sum += number  # Adding each number to the sum\n",
    "    average = sum / len(numbers)  # Calculating the average\n",
    "    return average\n",
    "\n",
    "# Calling the function and printing the result\n",
    "average_result = calculate_average(data)\n",
    "average_result"
   ]
  },
  {
   "cell_type": "markdown",
   "id": "780e81a9",
   "metadata": {},
   "source": [
    "### References\n",
    "\n",
    "1. Severance, C. \"Programming for Everybody (Getting Started with Python).\" University of Michigan. Available at: https://www.coursera.org/learn/python\n",
    "\n",
    "2. Traversy, B. 2018. \"Python Crash Course for Beginners.\" YouTube. Available at: https://www.youtube.com/watch?v=JJmcL1N2KQs\n",
    "\n",
    "3. Sweigart, A. \"Automate the Boring Stuff with Python.\" Available at: https://automatetheboringstuff.com/"
   ]
  }
 ],
 "metadata": {
  "kernelspec": {
   "display_name": "Python 3 (ipykernel)",
   "language": "python",
   "name": "python3"
  },
  "language_info": {
   "codemirror_mode": {
    "name": "ipython",
    "version": 3
   },
   "file_extension": ".py",
   "mimetype": "text/x-python",
   "name": "python",
   "nbconvert_exporter": "python",
   "pygments_lexer": "ipython3",
   "version": "3.11.5"
  }
 },
 "nbformat": 4,
 "nbformat_minor": 5
}
