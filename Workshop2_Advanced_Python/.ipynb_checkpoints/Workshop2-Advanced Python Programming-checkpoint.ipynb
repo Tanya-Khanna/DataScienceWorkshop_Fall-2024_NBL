{
 "cells": [
  {
   "cell_type": "markdown",
   "id": "2a9f5553-d5f8-4e5f-b83e-ae3f1a877123",
   "metadata": {},
   "source": [
    "# Debugging and Error Handling in Python\n",
    "\n",
    "## 1. Introduction to Debugging\n",
    "\n",
    "Debugging is the process of identifying and resolving bugs (errors) in your code. It's an essential skill for developers to ensure that their programs run smoothly.\n",
    "\n",
    "### Common Tools for Debugging:\n",
    "- **Print statements**: The simplest way to debug code is by inserting `print()` statements to check the flow and values of variables.\n",
    "- **pdb Module**: Python provides a built-in debugger, called `pdb`, which allows you to pause your code, inspect variables, and step through your program.\n",
    "\n",
    "Let's explore some debugging techniques:"
   ]
  },
  {
   "cell_type": "code",
   "execution_count": 2,
   "id": "05b96ca5-f495-4817-b027-38703db3b178",
   "metadata": {},
   "outputs": [
    {
     "name": "stdout",
     "output_type": "stream",
     "text": [
      "Dividing 10 by 2\n",
      "Result: 5.0\n",
      "Dividing 10 by 0\n"
     ]
    },
    {
     "ename": "ZeroDivisionError",
     "evalue": "division by zero",
     "output_type": "error",
     "traceback": [
      "\u001b[0;31m---------------------------------------------------------------------------\u001b[0m",
      "\u001b[0;31mZeroDivisionError\u001b[0m                         Traceback (most recent call last)",
      "Cell \u001b[0;32mIn[2], line 11\u001b[0m\n\u001b[1;32m      9\u001b[0m \u001b[38;5;66;03m# Debugging the function\u001b[39;00m\n\u001b[1;32m     10\u001b[0m divide(\u001b[38;5;241m10\u001b[39m, \u001b[38;5;241m2\u001b[39m)\n\u001b[0;32m---> 11\u001b[0m divide(\u001b[38;5;241m10\u001b[39m, \u001b[38;5;241m0\u001b[39m)\n",
      "Cell \u001b[0;32mIn[2], line 5\u001b[0m, in \u001b[0;36mdivide\u001b[0;34m(a, b)\u001b[0m\n\u001b[1;32m      3\u001b[0m \u001b[38;5;28;01mdef\u001b[39;00m \u001b[38;5;21mdivide\u001b[39m(a, b):\n\u001b[1;32m      4\u001b[0m     \u001b[38;5;28mprint\u001b[39m(\u001b[38;5;124mf\u001b[39m\u001b[38;5;124m\"\u001b[39m\u001b[38;5;124mDividing \u001b[39m\u001b[38;5;132;01m{\u001b[39;00ma\u001b[38;5;132;01m}\u001b[39;00m\u001b[38;5;124m by \u001b[39m\u001b[38;5;132;01m{\u001b[39;00mb\u001b[38;5;132;01m}\u001b[39;00m\u001b[38;5;124m\"\u001b[39m)  \u001b[38;5;66;03m# Print the values before division\u001b[39;00m\n\u001b[0;32m----> 5\u001b[0m     result \u001b[38;5;241m=\u001b[39m a \u001b[38;5;241m/\u001b[39m b\n\u001b[1;32m      6\u001b[0m     \u001b[38;5;28mprint\u001b[39m(\u001b[38;5;124mf\u001b[39m\u001b[38;5;124m\"\u001b[39m\u001b[38;5;124mResult: \u001b[39m\u001b[38;5;132;01m{\u001b[39;00mresult\u001b[38;5;132;01m}\u001b[39;00m\u001b[38;5;124m\"\u001b[39m)  \u001b[38;5;66;03m# Print the result\u001b[39;00m\n\u001b[1;32m      7\u001b[0m     \u001b[38;5;28;01mreturn\u001b[39;00m result\n",
      "\u001b[0;31mZeroDivisionError\u001b[0m: division by zero"
     ]
    }
   ],
   "source": [
    "# Example 1 of debugging using print statements\n",
    "# A function to divide two numbers\n",
    "def divide(a, b):\n",
    "    print(f\"Dividing {a} by {b}\")  # Print the values before division\n",
    "    result = a / b\n",
    "    print(f\"Result: {result}\")  # Print the result\n",
    "    return result\n",
    "\n",
    "# Debugging the function\n",
    "divide(10, 2)\n",
    "divide(10, 0)  # This will raise an error, but we can see the print output first"
   ]
  },
  {
   "cell_type": "code",
   "execution_count": 4,
   "id": "c7452bcf-b550-4e34-bf55-8a18fa4c5380",
   "metadata": {},
   "outputs": [
    {
     "name": "stdout",
     "output_type": "stream",
     "text": [
      "Starting factorial calculation for: 5\n",
      "i = 0, result = 0\n",
      "i = 1, result = 0\n",
      "i = 2, result = 0\n",
      "i = 3, result = 0\n",
      "i = 4, result = 0\n",
      "0\n"
     ]
    }
   ],
   "source": [
    "# Incorrect factorial function to debug\n",
    "def factorial(n):\n",
    "    print(f\"Starting factorial calculation for: {n}\")\n",
    "    result = 1  # Initialize result to 1\n",
    "    for i in range(n):  # This loop has an issue! It should be range(1, n+1)\n",
    "        result *= i  # Multiply result by the current i\n",
    "        print(f\"i = {i}, result = {result}\")  # Debugging the current value of i and result\n",
    "    return result\n",
    "\n",
    "# Test the function with a sample value\n",
    "print(factorial(5))  # Expecting 120"
   ]
  },
  {
   "cell_type": "markdown",
   "id": "8e5ddfe9-92c2-4032-9c42-d1abfd3eea7e",
   "metadata": {},
   "source": [
    "What went wrong?\n",
    "\n",
    "* The print statements helped us see that the issue is happening because the first iteration starts with i = 0, which leads to multiplying the result by 0, resulting in result = 0.\n",
    "* The factorial of a number should start from 1, not 0, which means the loop range is incorrect."
   ]
  },
  {
   "cell_type": "markdown",
   "id": "1f1a147f-7b52-45f7-84a1-6d4e9e9a6d43",
   "metadata": {},
   "source": [
    "#### Now, let's fix the loop and make it go from 1 to n instead of from 0 to n-1."
   ]
  },
  {
   "cell_type": "code",
   "execution_count": 6,
   "id": "fbe75ae2-c3fd-4bff-a9f4-1fc1c8617bdb",
   "metadata": {},
   "outputs": [
    {
     "name": "stdout",
     "output_type": "stream",
     "text": [
      "Starting factorial calculation for: 5\n",
      "i = 1, result = 1\n",
      "i = 2, result = 2\n",
      "i = 3, result = 6\n",
      "i = 4, result = 24\n",
      "i = 5, result = 120\n",
      "120\n"
     ]
    }
   ],
   "source": [
    "# Corrected factorial function with debugging\n",
    "def factorial(n):\n",
    "    print(f\"Starting factorial calculation for: {n}\")\n",
    "    result = 1  # Initialize result to 1\n",
    "    for i in range(1, n + 1):  # Loop should start from 1 and go up to n\n",
    "        result *= i  # Multiply result by the current i\n",
    "        print(f\"i = {i}, result = {result}\")  # Debugging the current value of i and result\n",
    "    return result\n",
    "\n",
    "# Test the function again\n",
    "print(factorial(5))  # Now expecting 120"
   ]
  },
  {
   "cell_type": "markdown",
   "id": "f1f725c4-9113-4dbf-be7d-bded73998a80",
   "metadata": {},
   "source": [
    "The initial error (starting the loop from 0) is a common mistake that students make when writing loops. The print statements help expose the error by showing the incorrect value of i and result. Each step of the loop is printed, allowing us to trace how the result is being calculated. This is helpful in understanding how the loop affects the outcome. fter identifying the issue using print statements, we correct the loop and verify the result with additional print statements."
   ]
  },
  {
   "cell_type": "markdown",
   "id": "39878e11-b8fb-4ee7-9e58-62239b264c10",
   "metadata": {},
   "source": [
    "### Using `pdb` for Debugging\n",
    "\n",
    "The `pdb` module in Python is a built-in tool that lets you **pause your program** at any point and **inspect what’s happening**. It's like hitting the \"pause\" button in the middle of your code so you can take a closer look.\n",
    "\n",
    "#### How `pdb` Works:\n",
    "\n",
    "1. **Setting a Breakpoint**:\n",
    "   - A **breakpoint** tells your code to pause at a specific line during execution.\n",
    "   - You can set a breakpoint using `pdb.set_trace()`. This will pause the program and allow you to interact with it.\n",
    "\n",
    "2. **Interacting with Your Code**:\n",
    "   - After the code pauses, you can:\n",
    "     - Check the values of variables.\n",
    "     - Step through the code line by line.\n",
    "     - Continue the program or quit the debugging session.\n",
    "   - Commands:\n",
    "     - `p variable`: Print the value of a variable.\n",
    "     - `n`: Move to the next line of code.\n",
    "     - `c`: Continue running the program.\n",
    "     - `q`: Quit the debugger and stop the program.\n",
    "\n",
    "#### How to Use `pdb`:\n",
    "\n",
    "1. **Insert a Breakpoint**:\n",
    "   Add `pdb.set_trace()` at the line where you want the program to pause.\n",
    "\n",
    "   Example:\n",
    "   ```python\n",
    "   import pdb\n",
    "   pdb.set_trace()  # Pauses the program here\n",
    "\n",
    "2. **Run the Program**: When the program reaches the breakpoint, it will pause, and you can start interacting with it.\n",
    "\n",
    "3. **Inspect and Control the Program**: After the program pauses, you can check variable values, move through the code step by step, and decide whether to continue or quit."
   ]
  },
  {
   "cell_type": "code",
   "execution_count": 7,
   "id": "ae552b63-7b9a-4bc0-84ac-538c3924cde8",
   "metadata": {},
   "outputs": [
    {
     "name": "stdout",
     "output_type": "stream",
     "text": [
      "> \u001b[0;32m/var/folders/gl/q2977b1d2f11wv63sxv4cyhh0000gn/T/ipykernel_40799/1071247126.py\u001b[0m(7)\u001b[0;36mdivide\u001b[0;34m()\u001b[0m\n",
      "\u001b[0;32m      5 \u001b[0;31m\u001b[0;32mdef\u001b[0m \u001b[0mdivide\u001b[0m\u001b[0;34m(\u001b[0m\u001b[0ma\u001b[0m\u001b[0;34m,\u001b[0m \u001b[0mb\u001b[0m\u001b[0;34m)\u001b[0m\u001b[0;34m:\u001b[0m\u001b[0;34m\u001b[0m\u001b[0;34m\u001b[0m\u001b[0m\n",
      "\u001b[0m\u001b[0;32m      6 \u001b[0;31m    \u001b[0mpdb\u001b[0m\u001b[0;34m.\u001b[0m\u001b[0mset_trace\u001b[0m\u001b[0;34m(\u001b[0m\u001b[0;34m)\u001b[0m  \u001b[0;31m# Program will pause here\u001b[0m\u001b[0;34m\u001b[0m\u001b[0;34m\u001b[0m\u001b[0m\n",
      "\u001b[0m\u001b[0;32m----> 7 \u001b[0;31m    \u001b[0mresult\u001b[0m \u001b[0;34m=\u001b[0m \u001b[0ma\u001b[0m \u001b[0;34m/\u001b[0m \u001b[0mb\u001b[0m\u001b[0;34m\u001b[0m\u001b[0;34m\u001b[0m\u001b[0m\n",
      "\u001b[0m\u001b[0;32m      8 \u001b[0;31m    \u001b[0;32mreturn\u001b[0m \u001b[0mresult\u001b[0m\u001b[0;34m\u001b[0m\u001b[0;34m\u001b[0m\u001b[0m\n",
      "\u001b[0m\u001b[0;32m      9 \u001b[0;31m\u001b[0;34m\u001b[0m\u001b[0m\n",
      "\u001b[0m\n"
     ]
    },
    {
     "name": "stdin",
     "output_type": "stream",
     "text": [
      "ipdb>  p a\n"
     ]
    },
    {
     "name": "stdout",
     "output_type": "stream",
     "text": [
      "10\n"
     ]
    },
    {
     "name": "stdin",
     "output_type": "stream",
     "text": [
      "ipdb>  p b\n"
     ]
    },
    {
     "name": "stdout",
     "output_type": "stream",
     "text": [
      "2\n"
     ]
    },
    {
     "name": "stdin",
     "output_type": "stream",
     "text": [
      "ipdb>  n\n"
     ]
    },
    {
     "name": "stdout",
     "output_type": "stream",
     "text": [
      "> \u001b[0;32m/var/folders/gl/q2977b1d2f11wv63sxv4cyhh0000gn/T/ipykernel_40799/1071247126.py\u001b[0m(8)\u001b[0;36mdivide\u001b[0;34m()\u001b[0m\n",
      "\u001b[0;32m      6 \u001b[0;31m    \u001b[0mpdb\u001b[0m\u001b[0;34m.\u001b[0m\u001b[0mset_trace\u001b[0m\u001b[0;34m(\u001b[0m\u001b[0;34m)\u001b[0m  \u001b[0;31m# Program will pause here\u001b[0m\u001b[0;34m\u001b[0m\u001b[0;34m\u001b[0m\u001b[0m\n",
      "\u001b[0m\u001b[0;32m      7 \u001b[0;31m    \u001b[0mresult\u001b[0m \u001b[0;34m=\u001b[0m \u001b[0ma\u001b[0m \u001b[0;34m/\u001b[0m \u001b[0mb\u001b[0m\u001b[0;34m\u001b[0m\u001b[0;34m\u001b[0m\u001b[0m\n",
      "\u001b[0m\u001b[0;32m----> 8 \u001b[0;31m    \u001b[0;32mreturn\u001b[0m \u001b[0mresult\u001b[0m\u001b[0;34m\u001b[0m\u001b[0;34m\u001b[0m\u001b[0m\n",
      "\u001b[0m\u001b[0;32m      9 \u001b[0;31m\u001b[0;34m\u001b[0m\u001b[0m\n",
      "\u001b[0m\u001b[0;32m     10 \u001b[0;31m\u001b[0;31m# Run the function and it will pause at pdb.set_trace()\u001b[0m\u001b[0;34m\u001b[0m\u001b[0;34m\u001b[0m\u001b[0m\n",
      "\u001b[0m\n"
     ]
    },
    {
     "name": "stdin",
     "output_type": "stream",
     "text": [
      "ipdb>  p result\n"
     ]
    },
    {
     "name": "stdout",
     "output_type": "stream",
     "text": [
      "5.0\n"
     ]
    },
    {
     "name": "stdin",
     "output_type": "stream",
     "text": [
      "ipdb>  c\n"
     ]
    },
    {
     "data": {
      "text/plain": [
       "5.0"
      ]
     },
     "execution_count": 7,
     "metadata": {},
     "output_type": "execute_result"
    }
   ],
   "source": [
    "# Example of using pdb to debug a function\n",
    "\n",
    "import pdb\n",
    "\n",
    "def divide(a, b):\n",
    "    pdb.set_trace()  # Program will pause here\n",
    "    result = a / b\n",
    "    return result\n",
    "\n",
    "# Run the function and it will pause at pdb.set_trace()\n",
    "divide(10, 2)"
   ]
  },
  {
   "cell_type": "markdown",
   "id": "9fa23406-7f7b-4c36-8ba9-ba27c70bcc65",
   "metadata": {},
   "source": [
    "### What Happens:\n",
    "1. The program will stop at the `pdb.set_trace()` line.\n",
    "2. You can type commands in the terminal to inspect and control the program:\n",
    "   - `p a`: Prints the value of `a`.\n",
    "   - `p b`: Prints the value of `b`.\n",
    "   - `n`: Moves to the next line (where `result = a / b` is).\n",
    "   - `c`: Continues running the program.\n",
    "   - `q`: Quits the debugger and stops the program.\n",
    "\n",
    "### Why Use `pdb`:\n",
    "- It’s useful for understanding **why something is going wrong**.\n",
    "- You can **pause the program** at any point, inspect variables, and step through the code to find the problem.\n",
    "- This helps you figure out issues **in real-time** without having to guess."
   ]
  },
  {
   "cell_type": "markdown",
   "id": "bbfe524c-59bc-46c0-9eb7-abb6c8ae4d49",
   "metadata": {},
   "source": [
    "### Tracebacks\n",
    "\n",
    "A **traceback** is what Python shows you when an error (or exception) occurs. It gives you information about **where** the error happened in your code and provides **clues** about what went wrong.\n",
    "\n",
    "The traceback shows:\n",
    "\n",
    "- **The file and line number** where the error occurred.\n",
    "- **The type of error** (e.g., `ZeroDivisionError`, `TypeError`).\n",
    "- **The call stack** leading up to the error, which helps you trace the sequence of function calls that caused the issue."
   ]
  },
  {
   "cell_type": "code",
   "execution_count": 8,
   "id": "d7ff5dd1-b8fd-4994-8ea8-30cc7939e1f5",
   "metadata": {},
   "outputs": [
    {
     "ename": "ZeroDivisionError",
     "evalue": "division by zero",
     "output_type": "error",
     "traceback": [
      "\u001b[0;31m---------------------------------------------------------------------------\u001b[0m",
      "\u001b[0;31mZeroDivisionError\u001b[0m                         Traceback (most recent call last)",
      "Cell \u001b[0;32mIn[8], line 5\u001b[0m\n\u001b[1;32m      2\u001b[0m     \u001b[38;5;28;01mreturn\u001b[39;00m a \u001b[38;5;241m/\u001b[39m b\n\u001b[1;32m      4\u001b[0m \u001b[38;5;66;03m# This will cause an error because we're dividing by 0\u001b[39;00m\n\u001b[0;32m----> 5\u001b[0m \u001b[38;5;28mprint\u001b[39m(divide(\u001b[38;5;241m10\u001b[39m, \u001b[38;5;241m0\u001b[39m))\n",
      "Cell \u001b[0;32mIn[8], line 2\u001b[0m, in \u001b[0;36mdivide\u001b[0;34m(a, b)\u001b[0m\n\u001b[1;32m      1\u001b[0m \u001b[38;5;28;01mdef\u001b[39;00m \u001b[38;5;21mdivide\u001b[39m(a, b):\n\u001b[0;32m----> 2\u001b[0m     \u001b[38;5;28;01mreturn\u001b[39;00m a \u001b[38;5;241m/\u001b[39m b\n",
      "\u001b[0;31mZeroDivisionError\u001b[0m: division by zero"
     ]
    }
   ],
   "source": [
    "def divide(a, b):\n",
    "    return a / b\n",
    "\n",
    "# This will cause an error because we're dividing by 0\n",
    "print(divide(10, 0))"
   ]
  },
  {
   "cell_type": "markdown",
   "id": "0df75d9d-1ee5-48cb-892c-05a81e454e06",
   "metadata": {},
   "source": [
    "How to Use a Traceback to Identify Errors:\n",
    "1. Look at the error type: In this case, ZeroDivisionError means that the code is trying to divide by zero, which is not allowed.\n",
    "2. Look at the call stack: The traceback shows the sequence of function calls that led to the error, helping you figure out where the problem started."
   ]
  },
  {
   "cell_type": "markdown",
   "id": "95489984-5283-4a10-9208-e9affe2c088f",
   "metadata": {},
   "source": [
    "### Error Handling \n",
    "\n",
    "In Python, there are different types of errors that can occur while your program is running. Understanding these errors helps you handle them gracefully and avoid program crashes.\n",
    "\n",
    "#### Common Types of Errors:\n",
    "\n",
    "1. **SyntaxError**: This occurs when the code violates the syntax rules of Python, like missing punctuation or incorrect indentation.\n",
    "2. **ValueError**: This occurs when a function gets the right type of argument, but the value is inappropriate.\n",
    "3. **TypeError**: This occurs when an operation or function is applied to an object of the wrong type.\n",
    "\n",
    "Let’s explore these error types with examples and see how they can be handled."
   ]
  },
  {
   "cell_type": "code",
   "execution_count": 10,
   "id": "110ec0f9-0cfd-4561-8640-20aa24d9dfd4",
   "metadata": {},
   "outputs": [
    {
     "ename": "SyntaxError",
     "evalue": "incomplete input (2464723483.py, line 5)",
     "output_type": "error",
     "traceback": [
      "\u001b[0;36m  Cell \u001b[0;32mIn[10], line 5\u001b[0;36m\u001b[0m\n\u001b[0;31m    print(\"Hello, World!\"\u001b[0m\n\u001b[0m                         ^\u001b[0m\n\u001b[0;31mSyntaxError\u001b[0m\u001b[0;31m:\u001b[0m incomplete input\n"
     ]
    }
   ],
   "source": [
    "# 1. Example of a SyntaxError\n",
    "# SyntaxError happens when there's an issue in how the code is written, like missing punctuation.\n",
    "\n",
    "# This line would raise a SyntaxError because the print statement is missing a closing parenthesis.\n",
    "print(\"Hello, World!\""
   ]
  },
  {
   "cell_type": "code",
   "execution_count": 11,
   "id": "5cc00668-3758-4236-bfd7-834ad76cd8c0",
   "metadata": {},
   "outputs": [
    {
     "name": "stdout",
     "output_type": "stream",
     "text": [
      "Hello, World!\n"
     ]
    }
   ],
   "source": [
    "# Corrected SyntaxError\n",
    "print(\"Hello, World!\")  # The parentheses are properly closed."
   ]
  },
  {
   "cell_type": "code",
   "execution_count": 12,
   "id": "ff4cdc9c-a681-4379-9b1a-1615ac444f2d",
   "metadata": {},
   "outputs": [
    {
     "name": "stdout",
     "output_type": "stream",
     "text": [
      "ValueError occurred: invalid literal for int() with base 10: 'abc'\n"
     ]
    }
   ],
   "source": [
    "# 2. Example of a ValueError\n",
    "# ValueError occurs when a function receives a valid type but an inappropriate value.\n",
    "\n",
    "# Trying to convert a string that doesn't represent a number into an integer will raise a ValueError.\n",
    "try:\n",
    "    number = int(\"abc\")  # This will raise a ValueError because \"abc\" cannot be converted to an integer\n",
    "except ValueError as e:\n",
    "    print(f\"ValueError occurred: {e}\")"
   ]
  },
  {
   "cell_type": "code",
   "execution_count": 13,
   "id": "a340c569-500b-4440-9604-3267371114f7",
   "metadata": {},
   "outputs": [
    {
     "name": "stdout",
     "output_type": "stream",
     "text": [
      "TypeError occurred: can only concatenate str (not \"int\") to str\n"
     ]
    }
   ],
   "source": [
    "# 3. Example of a TypeError\n",
    "# TypeError occurs when you try to use an operation on the wrong type of object.\n",
    "\n",
    "# In this case, trying to add a string and an integer will raise a TypeError.\n",
    "try:\n",
    "    result = \"string\" + 10  # This will raise a TypeError because you can't add a string and an integer\n",
    "except TypeError as e:\n",
    "    print(f\"TypeError occurred: {e}\")"
   ]
  },
  {
   "cell_type": "markdown",
   "id": "362a8ff7-2b5b-440b-89b4-dde377afdc32",
   "metadata": {},
   "source": [
    "Each of these errors can be caught using **try-except** blocks to prevent your program from crashing."
   ]
  },
  {
   "cell_type": "markdown",
   "id": "6f453185-e58b-40b1-9fca-66f4c6181171",
   "metadata": {},
   "source": [
    "## 2. Introduction to Error Handling\n",
    "\n",
    "### Try-Except Blocks for Handling Exceptions\n",
    "\n",
    "In Python, **try-except blocks** are used to catch and handle exceptions (errors) that might occur during program execution. This prevents your program from crashing when it encounters an error.\n",
    "\n",
    "#### What Are Try-Except Blocks?\n",
    "- A **try** block contains the code that you want to monitor for potential errors.\n",
    "- An **except** block contains the code that will run if an error occurs in the try block.\n",
    "\n",
    "#### Syntax:\n",
    "\n",
    "```python\n",
    "try:\n",
    "    # Code that might raise an exception\n",
    "except ExceptionType:\n",
    "    # Code to handle the exception\n"
   ]
  },
  {
   "cell_type": "code",
   "execution_count": 14,
   "id": "c7911590-c424-413b-99b2-12fe012e15de",
   "metadata": {},
   "outputs": [
    {
     "name": "stdout",
     "output_type": "stream",
     "text": [
      "Result of division: 5.0\n",
      "Error: Division by zero is not allowed!\n"
     ]
    }
   ],
   "source": [
    "# Example 1: Handling ZeroDivisionError\n",
    "\n",
    "def divide_numbers(a, b):\n",
    "    try:\n",
    "        result = a / b  # This line might raise a ZeroDivisionError if b is 0\n",
    "        print(f\"Result of division: {result}\")\n",
    "    except ZeroDivisionError:\n",
    "        # This block runs if a division by zero occurs\n",
    "        print(\"Error: Division by zero is not allowed!\")\n",
    "\n",
    "# Testing the function with division by zero\n",
    "divide_numbers(10, 2)  # This will work fine\n",
    "divide_numbers(10, 0)  # This will raise ZeroDivisionError and be handled"
   ]
  },
  {
   "cell_type": "code",
   "execution_count": 15,
   "id": "6ac24ffc-fe4f-45b6-89b2-f7ee1bb62048",
   "metadata": {},
   "outputs": [
    {
     "name": "stdin",
     "output_type": "stream",
     "text": [
      "Enter an integer:  abc\n"
     ]
    },
    {
     "name": "stdout",
     "output_type": "stream",
     "text": [
      "Error: That's not a valid integer!\n"
     ]
    }
   ],
   "source": [
    "# Example 2: Handling ValueError\n",
    "\n",
    "def get_integer_input():\n",
    "    try:\n",
    "        user_input = int(input(\"Enter an integer: \"))  # This line may raise a ValueError if the input is not an integer\n",
    "        print(f\"You entered the integer: {user_input}\")\n",
    "    except ValueError:\n",
    "        # This block runs if the input is not a valid integer\n",
    "        print(\"Error: That's not a valid integer!\")\n",
    "\n",
    "# Testing the function with a valid and invalid input\n",
    "get_integer_input()  # Try entering a non-integer value like \"abc\" to see the ValueError handling"
   ]
  },
  {
   "cell_type": "markdown",
   "id": "bf6d1e43-0934-42e2-855b-767ea79e6a39",
   "metadata": {},
   "source": [
    "### Best Practices for Error Handling\n",
    "\n",
    "1. **Catch specific exceptions**:  \n",
    "   Always catch specific exceptions (e.g., `ZeroDivisionError`, `ValueError`) rather than catching all exceptions using a generic `except:`. This helps in understanding exactly what went wrong and allows for more precise error handling.\n",
    "\n",
    "2. **Provide useful error messages**:  \n",
    "   When handling exceptions, provide meaningful error messages to help the user understand what went wrong. Avoid generic messages like \"An error occurred.\" Instead, give clear information that can guide users to correct their input or behavior.\n",
    "\n",
    "3. **Avoid using try-except for flow control**:  \n",
    "   Use try-except blocks for **error handling**, not for controlling the normal flow of your program. The try-except mechanism should be used to catch unexpected issues, not as part of the regular logic flow of your code.\n",
    "\n",
    "4. **Use finally for cleanup**:  \n",
    "   If your code requires any kind of **cleanup** (e.g., closing files or network connections), use the `finally` block. Code inside the `finally` block will run **no matter what**, whether an exception was raised or not. This ensures that resources are released properly.\n",
    "\n",
    "   Example:\n",
    "\n",
    "   ```python\n",
    "   try:\n",
    "       # Code that may raise an exception\n",
    "   finally:\n",
    "       # Code that runs no matter what (e.g., closing a file)\n",
    "\n",
    "5. **Keep try blocks short:**\n",
    "Keep the code inside the try block as small as possible. This makes it easier to pinpoint where the error occurred and ensures that you're not masking potential issues by having too much code inside a single try block. Only include the lines that are likely to cause an exception.\n"
   ]
  },
  {
   "cell_type": "markdown",
   "id": "d47fd63a-6dc4-4b62-ab8e-6dbb04312b28",
   "metadata": {},
   "source": [
    "# Object-Oriented Programming (OOP) in Python\n",
    "\n",
    "**Object-Oriented Programming (OOP)** is a programming paradigm that organizes code into objects and classes. This helps in writing reusable, modular, and scalable code.\n",
    "\n",
    "## Introduction to OOP Concepts\n",
    "\n",
    "- **Classes**: A class is a blueprint for creating objects. It defines attributes (data) and methods (functions) that the objects will have.\n",
    "- **Objects**: An object is an instance of a class. It contains the data and behaviors defined by its class.\n",
    "\n",
    "### Example:\n",
    "A `Car` class defines the blueprint for a car, and each car object (like `my_car`) will have the attributes and methods described by the class."
   ]
  },
  {
   "cell_type": "code",
   "execution_count": 18,
   "id": "f0b4246a-d9dd-4dbc-bcd1-a54c4dad4701",
   "metadata": {},
   "outputs": [
    {
     "name": "stdout",
     "output_type": "stream",
     "text": [
      "Toyota Corolla is starting!\n"
     ]
    }
   ],
   "source": [
    "# Define a class called Car\n",
    "# A class is like a blueprint that defines what properties (attributes) and actions (methods) an object of that class will have.\n",
    "class Car:\n",
    "    \n",
    "    # The __init__ method is a special method in Python classes. It is called a constructor.\n",
    "    # It's automatically called when a new object of the class is created (instantiated).\n",
    "    # This method is used to initialize the object's attributes (like 'brand' and 'model' in this case).\n",
    "    # The 'self' parameter refers to the instance (the specific object) of the class that is being created.\n",
    "    # It allows you to access and assign values to the object's attributes from within the class.\n",
    "    \n",
    "    def __init__(self, brand, model):\n",
    "        self.brand = brand  # 'self.brand' refers to the 'brand' attribute of the specific object (instance) being created.\n",
    "        self.model = model  # 'self.model' refers to the 'model' attribute of the specific object (instance) being created.\n",
    "        # The 'brand' and 'model' values are passed when the object is created and assigned to the object's attributes.\n",
    "    \n",
    "    # This is a regular method inside the Car class. It's called an instance method.\n",
    "    # The 'self' parameter allows this method to access attributes (like 'brand' and 'model') of the specific object.\n",
    "    def start(self):\n",
    "        # When this method is called on an object, it prints a message saying the car is starting.\n",
    "        # The 'self.brand' and 'self.model' allow access to the object's attributes 'brand' and 'model'.\n",
    "        print(f\"{self.brand} {self.model} is starting!\")\n",
    "\n",
    "# Now, we create an object (an instance) of the Car class.\n",
    "# The Car class requires two arguments (brand and model) to initialize the object.\n",
    "my_car = Car(\"Toyota\", \"Corolla\")  # 'my_car' is an instance of the Car class, with 'brand' set to \"Toyota\" and 'model' set to \"Corolla\".\n",
    "\n",
    "# Call the start method on the 'my_car' object.\n",
    "# This will access the object's attributes ('Toyota' and 'Corolla') and print the message.\n",
    "my_car.start()  # Output: Toyota Corolla is starting!"
   ]
  },
  {
   "cell_type": "markdown",
   "id": "624dfdaf-3170-4a55-8931-9e32f5db68a9",
   "metadata": {},
   "source": [
    "* __init__: Initializes the object’s attributes when it's created.\n",
    "* self: Refers to the instance of the class, allowing access to its attributes and methods.\n",
    "* Attributes: Variables specific to the object (e.g., brand, model).\n",
    "* Methods: Functions inside the class that define the object's behaviors (e.g., start()).\n",
    "* Objects: Instances of the class, each with its own set of attributes and behaviors."
   ]
  },
  {
   "cell_type": "code",
   "execution_count": 19,
   "id": "805460f3-89ba-4828-869a-4582b8342cf9",
   "metadata": {},
   "outputs": [
    {
     "name": "stdout",
     "output_type": "stream",
     "text": [
      "Rex, the German Shepherd, is barking!\n"
     ]
    }
   ],
   "source": [
    "# Define a class called Dog\n",
    "# A class is like a blueprint that describes what properties (attributes) and actions (methods) each Dog object will have.\n",
    "class Dog:\n",
    "    \n",
    "    # The __init__ method is the constructor. It runs automatically when a new Dog object is created.\n",
    "    # It initializes the object's attributes like 'name' and 'breed'.\n",
    "    # The 'self' parameter refers to the specific Dog object being created and allows you to store values in its attributes.\n",
    "    def __init__(self, name, breed):\n",
    "        self.name = name  # 'self.name' creates an attribute 'name' for the specific Dog object.\n",
    "        self.breed = breed  # 'self.breed' creates an attribute 'breed' for the Dog object.\n",
    "    \n",
    "    # This is a method called bark. It's a function that belongs to the Dog class.\n",
    "    # The 'self' parameter allows this method to access the object's attributes (like 'name' and 'breed').\n",
    "    def bark(self):\n",
    "        # This method prints a message that includes the dog's name and breed, indicating that the dog is barking.\n",
    "        print(f\"{self.name}, the {self.breed}, is barking!\")\n",
    "\n",
    "# Create an object (instance) of the Dog class named 'my_dog'.\n",
    "# We pass \"Rex\" as the dog's name and \"German Shepherd\" as the breed.\n",
    "my_dog = Dog(\"Rex\", \"German Shepherd\")  # 'my_dog' now represents a dog named Rex who is a German Shepherd.\n",
    "\n",
    "# Call the bark method on the 'my_dog' object.\n",
    "# This will print a message that includes the dog's name and breed, indicating that Rex is barking.\n",
    "my_dog.bark()  # Output: Rex, the German Shepherd, is barking!"
   ]
  },
  {
   "cell_type": "markdown",
   "id": "947bbdfd-8b4c-4c98-8292-20f6c74794d8",
   "metadata": {},
   "source": [
    "### 💡📝 Task: Fill in the blanks to create a class called Person that has two attributes: name and age. Create a method called introduce that prints out the person's name and age."
   ]
  },
  {
   "cell_type": "code",
   "execution_count": null,
   "id": "3157a29e-bace-439d-9bae-b5a1eec811f7",
   "metadata": {},
   "outputs": [],
   "source": [
    "class _______:\n",
    "    def _______(self, name, age):\n",
    "        self._______ = name\n",
    "        self._______ = age\n",
    "    \n",
    "    def _______(self):\n",
    "        print(f\"My name is {self._______}, and I am {self._______} years old.\")\n",
    "\n",
    "# Create an object of the Person class\n",
    "person1 = _______(\"Alice\", 25)\n",
    "person1._______()  # Expected Output: My name is Alice, and I am 25 years old."
   ]
  },
  {
   "cell_type": "code",
   "execution_count": 21,
   "id": "7cbe938e-c300-40e6-956f-611fc80ae99d",
   "metadata": {
    "jupyter": {
     "source_hidden": true
    }
   },
   "outputs": [
    {
     "name": "stdout",
     "output_type": "stream",
     "text": [
      "My name is Alice, and I am 25 years old.\n"
     ]
    }
   ],
   "source": [
    "\n",
    "\n",
    "class Person:\n",
    "    def __init__(self, name, age):\n",
    "        self.name = name  # Initialize the 'name' attribute\n",
    "        self.age = age    # Initialize the 'age' attribute\n",
    "    \n",
    "    def introduce(self):\n",
    "        print(f\"My name is {self.name}, and I am {self.age} years old.\")  # Access the attributes and print\n",
    "\n",
    "# Create an object of the Person class\n",
    "person1 = Person(\"Alice\", 25)  # Pass 'Alice' and '25' to the constructor\n",
    "person1.introduce()  # Output: My name is Alice, and I am 25 years old."
   ]
  },
  {
   "cell_type": "markdown",
   "id": "9a615434-0ebd-4854-91d5-17a5ccd3cee3",
   "metadata": {},
   "source": [
    "## Types of OOPs:\n",
    "\n",
    "### 1. Inheritance: \n",
    "\n",
    "Inheritance in programming is like when a child inherits traits from their parents. Just as a child gets certain features or abilities from their parents (like eye color or athletic skills), a child class in programming can inherit properties (like variables) and abilities (like functions) from a parent class. This means you can create a new class (child) that automatically has all the features of an existing class (parent), and you can also add new features to the child class or change how some of the parent’s features work.\n",
    "\n",
    "Let’s say we have a parent class called Animal that has some basic abilities, and we want to create a child class called Dog that inherits these abilities, but also has its own special behaviors."
   ]
  },
  {
   "cell_type": "code",
   "execution_count": 23,
   "id": "08470caf-9c6c-4206-930b-9b05d8900c09",
   "metadata": {},
   "outputs": [
    {
     "name": "stdout",
     "output_type": "stream",
     "text": [
      "Buddy is eating.\n",
      "Buddy, the Golden Retriever, is barking!\n"
     ]
    }
   ],
   "source": [
    "# Define the Parent class 'Animal'\n",
    "class Animal:\n",
    "    # Constructor for the parent class. This is called when an object is created from the 'Animal' class.\n",
    "    def __init__(self, name):\n",
    "        self.name = name  # 'name' is an attribute of the class. Each animal will have a name.\n",
    "    \n",
    "    # A method that all animals will have. This can be called by any object of the 'Animal' class.\n",
    "    def eat(self):\n",
    "        print(f\"{self.name} is eating.\")\n",
    "\n",
    "# Define the Child class 'Dog' that inherits from the 'Animal' class\n",
    "class Dog(Animal):  # The 'Dog' class inherits from 'Animal'. This means 'Dog' has all the features of 'Animal'.\n",
    "    \n",
    "    # Constructor for the child class. We use 'super()' to call the parent class's constructor.\n",
    "    def __init__(self, name, breed):\n",
    "        super().__init__(name)  # This calls the 'Animal' class's constructor to set the 'name'.\n",
    "        self.breed = breed  # 'breed' is an additional attribute specific to the 'Dog' class.\n",
    "    \n",
    "    # A new method that only the 'Dog' class has. This is a unique ability of the 'Dog' class.\n",
    "    def bark(self):\n",
    "        print(f\"{self.name}, the {self.breed}, is barking!\")\n",
    "\n",
    "# Creating an object of the 'Dog' class\n",
    "my_dog = Dog(\"Buddy\", \"Golden Retriever\")  # We provide both the name and breed for the dog.\n",
    "\n",
    "# Calling methods on the 'Dog' object\n",
    "my_dog.eat()   # Inherited method from the 'Animal' class. Output: Buddy is eating.\n",
    "my_dog.bark()  # Method from the 'Dog' class. Output: Buddy, the Golden Retriever, is barking!"
   ]
  },
  {
   "cell_type": "markdown",
   "id": "6e30ccea-0660-4152-a95c-16850e04b85d",
   "metadata": {},
   "source": [
    "Inheritance allows the Dog class to use the features of the Animal class, like the name attribute and eat() method, without having to rewrite them. The Dog class can also have its own specific features, like the breed attribute and bark() method, that are unique to dogs. This helps in reusing code and making your program more organized!"
   ]
  },
  {
   "cell_type": "markdown",
   "id": "9acf8672-49d2-4cc7-a7a0-99b6201c988e",
   "metadata": {},
   "source": [
    "### 2. Polymorphism:\n",
    "\n",
    "Polymorphism is a concept where a function, method, or operation can take many forms. In simple terms, polymorphism allows different objects to respond to the same method in their own way. For example, both a Dog and a Cat can have a method called speak(), but each one will respond differently: a dog barks, and a cat meows.\n",
    "\n",
    "Polymorphism helps make code more flexible and reusable because you can write code that works with different types of objects without worrying about their specific classes.\n",
    "\n",
    "Let’s create two classes, Dog and Cat, each with a method called speak(). Even though they both have the same method name, they behave differently when you call speak() on a Dog object versus a Cat object."
   ]
  },
  {
   "cell_type": "code",
   "execution_count": 24,
   "id": "146f2bf9-3c84-474f-bfea-910e9a1804b5",
   "metadata": {},
   "outputs": [
    {
     "name": "stdout",
     "output_type": "stream",
     "text": [
      "Buddy says Woof!\n",
      "Whiskers says Meow!\n"
     ]
    }
   ],
   "source": [
    "# Define a Parent class 'Animal'\n",
    "class Animal:\n",
    "    # Parent class constructor\n",
    "    def __init__(self, name):\n",
    "        self.name = name  # Every animal will have a name\n",
    "\n",
    "    # Parent class method 'speak', meant to be overridden in child classes\n",
    "    def speak(self):\n",
    "        pass  # This method will be defined differently in child classes\n",
    "\n",
    "\n",
    "# Define the 'Dog' class that inherits from 'Animal'\n",
    "class Dog(Animal):\n",
    "    # Constructor for 'Dog' class. It calls the parent class constructor to set 'name'.\n",
    "    def __init__(self, name):\n",
    "        super().__init__(name)\n",
    "    \n",
    "    # Overriding the 'speak' method for 'Dog'\n",
    "    def speak(self):\n",
    "        return f\"{self.name} says Woof!\"\n",
    "\n",
    "\n",
    "# Define the 'Cat' class that also inherits from 'Animal'\n",
    "class Cat(Animal):\n",
    "    # Constructor for 'Cat' class. It calls the parent class constructor to set 'name'.\n",
    "    def __init__(self, name):\n",
    "        super().__init__(name)\n",
    "    \n",
    "    # Overriding the 'speak' method for 'Cat'\n",
    "    def speak(self):\n",
    "        return f\"{self.name} says Meow!\"\n",
    "\n",
    "\n",
    "# Demonstrating Polymorphism\n",
    "\n",
    "# Create a list of different animals\n",
    "animals = [Dog(\"Buddy\"), Cat(\"Whiskers\")]\n",
    "\n",
    "# Loop through the list and call the 'speak' method on each animal\n",
    "for animal in animals:\n",
    "    print(animal.speak())  # Polymorphism in action. Each animal will respond with its own 'speak' method."
   ]
  },
  {
   "cell_type": "markdown",
   "id": "4d65a90a-ab46-498d-9adb-cdf8801e988f",
   "metadata": {},
   "source": [
    "* Polymorphism allows different classes (Dog, Cat) to define their own versions of the speak() method, even though they all inherit from the same parent class (Animal).\n",
    "* The same method (speak()) behaves differently based on the type of object it's called on. This makes your code flexible and adaptable to different object types without having to know the exact class of each object.\n",
    "* Polymorphism allows us to write more general, reusable code. You can call the same method on different objects and get different results based on the object's specific class."
   ]
  },
  {
   "cell_type": "markdown",
   "id": "d3688878-24aa-4bd9-9828-dd87a42ac6ce",
   "metadata": {},
   "source": [
    "### 3. Encapsulation:\n",
    "\n",
    "Encapsulation is the concept of bundling the data (attributes) and the methods (functions) that work on the data into a single unit, or class, and restricting access to certain parts of it. You can think of it as a protective barrier that keeps important information (data) hidden from the outside world and only allows controlled access to it.\n",
    "\n",
    "In simple terms, encapsulation helps protect an object’s data. For example, if you have a bank account class, you wouldn’t want anyone to directly change your account balance. Instead, they should only be allowed to make deposits and withdrawals through secure methods.\n",
    "\n",
    "By marking certain attributes as private, encapsulation ensures that these attributes cannot be modified directly, and you can only interact with them through safe, predefined methods.\n",
    "\n",
    "Let’s create a class BankAccount where the balance is kept private and can only be accessed or modified using methods like deposit() and withdraw()."
   ]
  },
  {
   "cell_type": "code",
   "execution_count": 26,
   "id": "21ef159e-f354-4021-9daf-0a07cb02d8a2",
   "metadata": {},
   "outputs": [
    {
     "name": "stdout",
     "output_type": "stream",
     "text": [
      "Deposited 500. New balance: 1500\n",
      "Withdrew 300. New balance: 1200\n",
      "Account holder: Alice, Balance: 1200\n"
     ]
    },
    {
     "ename": "AttributeError",
     "evalue": "'BankAccount' object has no attribute '__balance'",
     "output_type": "error",
     "traceback": [
      "\u001b[0;31m---------------------------------------------------------------------------\u001b[0m",
      "\u001b[0;31mAttributeError\u001b[0m                            Traceback (most recent call last)",
      "Cell \u001b[0;32mIn[26], line 43\u001b[0m\n\u001b[1;32m     40\u001b[0m \u001b[38;5;28mprint\u001b[39m(alice_account\u001b[38;5;241m.\u001b[39mcheck_balance())  \u001b[38;5;66;03m# Output: Account holder: Alice, Balance: 1200\u001b[39;00m\n\u001b[1;32m     42\u001b[0m \u001b[38;5;66;03m# Direct access to the private attribute will fail\u001b[39;00m\n\u001b[0;32m---> 43\u001b[0m \u001b[38;5;28mprint\u001b[39m(alice_account\u001b[38;5;241m.\u001b[39m__balance)\n",
      "\u001b[0;31mAttributeError\u001b[0m: 'BankAccount' object has no attribute '__balance'"
     ]
    }
   ],
   "source": [
    "# Define the 'BankAccount' class\n",
    "class BankAccount:\n",
    "    \n",
    "    # Constructor to initialize the account holder's name and balance\n",
    "    def __init__(self, account_holder, balance):\n",
    "        self.account_holder = account_holder  # Public attribute, account holder's name\n",
    "        self.__balance = balance  # Private attribute, the balance is hidden (encapsulated)\n",
    "        # The balance is marked as a private attribute by prefixing it with double underscores (__). \n",
    "        # This means it cannot be accessed directly from outside the class. \n",
    "        # This helps encapsulate or hide the balance, ensuring that changes to it are controlled through methods.\n",
    "    \n",
    "    # Public method to deposit money into the account\n",
    "    def deposit(self, amount):\n",
    "        if amount > 0:\n",
    "            self.__balance += amount  # Access the private balance attribute through this method\n",
    "            print(f\"Deposited {amount}. New balance: {self.__balance}\")\n",
    "        else:\n",
    "            print(\"Deposit amount must be positive.\")\n",
    "    \n",
    "    # Public method to withdraw money from the account\n",
    "    def withdraw(self, amount):\n",
    "        if 0 < amount <= self.__balance:\n",
    "            self.__balance -= amount  # Access the private balance attribute through this method\n",
    "            print(f\"Withdrew {amount}. New balance: {self.__balance}\")\n",
    "        else:\n",
    "            print(\"Invalid withdrawal amount.\")\n",
    "    \n",
    "    # Public method to check the current balance\n",
    "    def check_balance(self):\n",
    "        return f\"Account holder: {self.account_holder}, Balance: {self.__balance}\"\n",
    "\n",
    "# Create a bank account object for Alice\n",
    "alice_account = BankAccount(\"Alice\", 1000)  # Alice starts with a balance of 1000\n",
    "\n",
    "# Try depositing and withdrawing money using the public methods\n",
    "alice_account.deposit(500)  # Deposits 500, Output: Deposited 500. New balance: 1500\n",
    "alice_account.withdraw(300)  # Withdraws 300, Output: Withdrew 300. New balance: 1200\n",
    "\n",
    "# Check the balance using the public method\n",
    "print(alice_account.check_balance())  # Output: Account holder: Alice, Balance: 1200\n",
    "\n",
    "# Direct access to the private attribute will fail\n",
    "print(alice_account.__balance)  # This will raise an AttributeError because '__balance' is private"
   ]
  },
  {
   "cell_type": "markdown",
   "id": "f01bb717-2c90-4857-ada4-80358eef6d7c",
   "metadata": {},
   "source": [
    "* Encapsulation helps protect important data (like the balance in a bank account) by making attributes private and only allowing changes through secure methods.\n",
    "* The __balance attribute is hidden from direct access to prevent unauthorized modifications.\n",
    "* You can interact with private attributes only through public methods (deposit(), withdraw(), check_balance()), ensuring that any changes to the data follow predefined rules."
   ]
  },
  {
   "cell_type": "markdown",
   "id": "92c9f9a5-e295-45fe-be8b-571d9c33dce3",
   "metadata": {},
   "source": [
    "### 4. Abstraction:\n",
    "Abstraction in programming is the concept of hiding complex details and only showing the essential features of an object. It's like using a TV remote control—you don’t need to know how all the inner circuits and components work to change the channel; you just need to press the button. The complex details are hidden from you (abstracted), and you're only provided with the interface (the buttons) to interact with.\n",
    "\n",
    "In programming, abstraction helps make complex systems easier to understand and use. We can create simple methods or interfaces to interact with an object, without exposing all the intricate details of how those methods work behind the scenes.\n",
    "\n",
    "Let’s say we have a class CoffeeMachine that has various internal processes to make coffee. The user doesn’t need to know how water is heated or how coffee beans are ground; they just need a simple method like make_coffee() to get their coffee."
   ]
  },
  {
   "cell_type": "code",
   "execution_count": 27,
   "id": "42ffe40e-f454-4c04-a955-7e327f0aef78",
   "metadata": {},
   "outputs": [
    {
     "name": "stdout",
     "output_type": "stream",
     "text": [
      "Boiling water...\n",
      "Brewing coffee... Your coffee is ready!\n"
     ]
    }
   ],
   "source": [
    "# Importing the 'ABC' and 'abstractmethod' from the 'abc' module.\n",
    "# 'ABC' stands for Abstract Base Class. This allows us to create abstract classes in Python.\n",
    "# An abstract class is a blueprint for other classes and cannot be instantiated directly.\n",
    "# 'abstractmethod' is a decorator that is used to define methods that must be implemented by any subclass.\n",
    "from abc import ABC, abstractmethod\n",
    "\n",
    "# Defining an abstract class called 'CoffeeMachine'.\n",
    "# This class will serve as a template for all types of coffee machines, but you cannot create a 'CoffeeMachine' object directly.\n",
    "class CoffeeMachine(ABC):\n",
    "    \n",
    "    # Define an abstract method 'make_coffee'. This method does not have any implementation here.\n",
    "    # Child classes (like 'BasicCoffeeMachine') must provide their own implementation for this method.\n",
    "    @abstractmethod\n",
    "    def make_coffee(self):\n",
    "        pass  # The 'pass' keyword means \"do nothing\". This method is a placeholder for child classes to define.\n",
    "\n",
    "    # Define a regular method 'boil_water'. This method has an implementation and can be used by any subclass.\n",
    "    # It simulates boiling water, which is a common action for any coffee machine.\n",
    "    def boil_water(self):\n",
    "        print(\"Boiling water...\")  # Prints a message to simulate water boiling.\n",
    "\n",
    "# Define a child class 'BasicCoffeeMachine' that inherits from 'CoffeeMachine'.\n",
    "# Since 'BasicCoffeeMachine' is a child of 'CoffeeMachine', it inherits all of its methods.\n",
    "# However, it must also provide an implementation for the abstract method 'make_coffee'.\n",
    "class BasicCoffeeMachine(CoffeeMachine):\n",
    "    \n",
    "    # Implementing the abstract method 'make_coffee'. Every coffee machine needs to make coffee in its own way.\n",
    "    # This method now has a specific behavior for the 'BasicCoffeeMachine'.\n",
    "    def make_coffee(self):\n",
    "        # The 'boil_water' method is inherited from the parent class 'CoffeeMachine'.\n",
    "        # This means 'BasicCoffeeMachine' can use the 'boil_water' method even though it wasn’t defined directly in this class.\n",
    "        self.boil_water()  # Call the inherited 'boil_water' method to simulate boiling water.\n",
    "        print(\"Brewing coffee... Your coffee is ready!\")  # After boiling water, simulate brewing coffee and print a message.\n",
    "\n",
    "# Now, we create an object of the 'BasicCoffeeMachine' class.\n",
    "# 'coffee_maker' is an instance of 'BasicCoffeeMachine'. It can use the methods defined in both 'BasicCoffeeMachine' and its parent class 'CoffeeMachine'.\n",
    "coffee_maker = BasicCoffeeMachine()\n",
    "\n",
    "# Call the 'make_coffee' method on the 'coffee_maker' object.\n",
    "# This will first call 'boil_water' (from the parent class) and then print a message about brewing coffee.\n",
    "coffee_maker.make_coffee()  # Output: Boiling water... Brewing coffee... Your coffee is ready!"
   ]
  },
  {
   "cell_type": "markdown",
   "id": "9d9875d7-4bf9-414b-b2ac-7fdacb5c937b",
   "metadata": {},
   "source": [
    "* Abstraction: The user only interacts with the make_coffee() method without needing to know the internal details of how the water is boiled or how coffee is brewed.\n",
    "* Inheritance: The BasicCoffeeMachine class inherits from the CoffeeMachine class, allowing it to use the boil_water() method without redefining it.\n",
    "* Abstract Methods: The abstract method make_coffee() provides a template for child classes, ensuring they implement this critical functionality in their own way."
   ]
  },
  {
   "cell_type": "markdown",
   "id": "b0050d95-a2bf-4779-a5a7-9e6d1b15588b",
   "metadata": {},
   "source": [
    "# Functional Programming in Python\n",
    "\n",
    "In **functional programming**, functions are treated as **\"first-class citizens\"**, meaning you can pass functions around as arguments, return them from other functions, or even assign them to variables. It emphasizes the use of functions to perform tasks and encourages writing code that avoids changing states or mutating data.\n",
    "\n",
    "---\n",
    "\n",
    "## What is a Regular Function?\n",
    "\n",
    "A **regular function** in Python is defined using the `def` keyword. It typically takes input (arguments), performs some operations, and returns an output. Regular functions can have multiple lines of code and can perform complex logic. They are reusable, and you can call them multiple times with different inputs.\n",
    "\n",
    "### Syntax of a Regular Function:\n",
    "\n",
    "```python\n",
    "def function_name(parameters):\n",
    "    # Function body (code inside the function)\n",
    "    return result  # Return the output of the function"
   ]
  },
  {
   "cell_type": "markdown",
   "id": "16dfa34b-8596-469c-aefc-4f825e3c619d",
   "metadata": {},
   "source": [
    "- **`def`**: This keyword is used to define a new function.\n",
    "- **`function_name`**: The name of the function (how you will call the function).\n",
    "- **`parameters`**: Input values the function can accept (optional).\n",
    "- **`return`**: The keyword used to send back the result of the function."
   ]
  },
  {
   "cell_type": "markdown",
   "id": "3ade0810-18a1-46f0-bea8-1a351a02dda6",
   "metadata": {},
   "source": [
    "## What is a Lambda Function?\n",
    "\n",
    "A **lambda function** (also called an anonymous function) is a small, one-line function that is not given a name. It is useful for short operations that you don’t need to define with a full `def` block. Lambda functions are typically used for quick, simple tasks.\n",
    "\n",
    "### Syntax of a Lambda Function:\n",
    "\n",
    "```python\n",
    "lambda arguments: expression"
   ]
  },
  {
   "cell_type": "markdown",
   "id": "68cffde4-57c6-4703-b708-e705179fc6e2",
   "metadata": {},
   "source": [
    "- **`lambda`**: This keyword is used to define an anonymous function.\n",
    "- **`arguments`**: Input values for the lambda function.\n",
    "- **`expression`**: The result or output of the lambda function (there is no `return` keyword in lambda; it implicitly returns the result)."
   ]
  },
  {
   "cell_type": "markdown",
   "id": "da613ff3-d4a5-4114-bc6f-927e626d87b5",
   "metadata": {},
   "source": [
    "## Why Do We Need Lambda Functions if We Already Have Regular Functions?\n",
    "\n",
    "Lambda functions are useful when you need to write a function quickly for simple operations and don’t want to define a full function using `def`. They are often used in situations where a function is required temporarily, such as in **higher-order functions** (functions that take other functions as input) or when passing small functions as arguments to other functions like `map()`, `filter()`, or `reduce()`.\n",
    "\n",
    "### Here’s why we use lambda functions:\n",
    "\n",
    "- **Conciseness**: Lambdas are a one-liner, so they’re useful for quick tasks.\n",
    "- **Anonymous Functions**: Sometimes you don’t need to give a name to a function (for example, if it's only used once).\n",
    "- **Cleaner Code**: They help keep code clean and readable, especially when used as arguments to other functions.\n",
    "\n",
    "In essence, **lambda functions complement regular functions** by providing a shorter syntax for simple tasks, especially useful in **functional programming** when functions are passed as arguments or returned from other functions."
   ]
  },
  {
   "cell_type": "code",
   "execution_count": 28,
   "id": "57d2e6c8-b5e1-40ce-b0b5-6d473f0c066a",
   "metadata": {},
   "outputs": [
    {
     "name": "stdout",
     "output_type": "stream",
     "text": [
      "8\n"
     ]
    }
   ],
   "source": [
    "# Example 1: A Function Written as Both Regular and Lambda\n",
    "# Regular function to add two numbers\n",
    "def add_numbers(x, y):\n",
    "    return x + y  # Return the sum of x and y\n",
    "\n",
    "# Call the function and print the result\n",
    "result = add_numbers(5, 3)\n",
    "print(result)  # Output: 8"
   ]
  },
  {
   "cell_type": "code",
   "execution_count": 29,
   "id": "f8cc6551-5efd-442f-a4b6-e75bf4c9b971",
   "metadata": {},
   "outputs": [
    {
     "name": "stdout",
     "output_type": "stream",
     "text": [
      "8\n"
     ]
    }
   ],
   "source": [
    "# Lambda function to add two numbers\n",
    "add_lambda = lambda x, y: x + y  # Lambda function to add two numbers\n",
    "\n",
    "# Call the lambda function and print the result\n",
    "result = add_lambda(5, 3)\n",
    "print(result)  # Output: 8"
   ]
  },
  {
   "cell_type": "markdown",
   "id": "3ecce038-8fcd-45c7-bbc5-ccc598ac2334",
   "metadata": {},
   "source": [
    "In this example, the lambda function is shorter and more concise. However, lambda functions are generally used when you need a quick, throwaway function (especially as an argument to another function) and not for complex logic."
   ]
  },
  {
   "cell_type": "code",
   "execution_count": 30,
   "id": "367bee5f-c97c-496b-abb4-989a1a44d893",
   "metadata": {},
   "outputs": [
    {
     "name": "stdout",
     "output_type": "stream",
     "text": [
      "7 is odd\n"
     ]
    }
   ],
   "source": [
    "# Example 2: A Function That Cannot Be Written as a Lambda\n",
    "# Lambda functions are limited to simple, one-line operations. \n",
    "# They cannot handle multiple statements or more complex logic that requires control structures like loops, conditionals, or multiple lines of code.\n",
    "\n",
    "# Regular function to check if a number is even or odd, and print a message\n",
    "def check_even_odd(x):\n",
    "    if x % 2 == 0:  # Check if the number is even\n",
    "        return f\"{x} is even\"\n",
    "    else:  # Otherwise, the number is odd\n",
    "        return f\"{x} is odd\"\n",
    "\n",
    "# Call the function and print the result\n",
    "result = check_even_odd(7)\n",
    "print(result)  # Output: 7 is odd"
   ]
  },
  {
   "cell_type": "markdown",
   "id": "70dcdbd8-ed57-4b55-9b7d-a79069b1e0e2",
   "metadata": {},
   "source": [
    "#### Why Can't This Be a Lambda?\n",
    "This example involves conditional logic (if-else) and multiple lines of code. Lambda functions are restricted to one expression, so they cannot contain multiple statements, loops, or complex logic. Therefore, this function cannot be written as a lambda function.\n",
    "\n",
    "Lambda functions are only suitable for short, simple operations and cannot handle control flow structures like if-else, loops, or complex calculations spread over multiple lines. For such cases, regular functions are the appropriate choice."
   ]
  },
  {
   "cell_type": "markdown",
   "id": "c467c631-f21a-4c66-b9de-1c667d6b63ab",
   "metadata": {},
   "source": [
    "### 1. `map()`\n",
    "\n",
    "**`map()`** applies a function to each element of an iterable (like a list or tuple) and returns a new iterable containing the results. It helps in transforming all items in an iterable using a given function.\n",
    "\n",
    "#### Syntax:\n",
    "```python\n",
    "map(function, iterable)"
   ]
  },
  {
   "cell_type": "markdown",
   "id": "64799a0a-34e0-48b7-8caf-7932756522d9",
   "metadata": {},
   "source": [
    "- **function**: This is the function that defines what operation to perform on each element in the iterable.\n",
    "- **iterable**: A list, tuple, or any other iterable object to which the function will be applied.\n",
    "\n",
    "In simpler terms, `map()` allows you to apply the same function to all elements of a collection without using a `for` loop. It processes each item in the iterable, transforms it, and returns a new iterable (e.g., a list or a map object)."
   ]
  },
  {
   "cell_type": "markdown",
   "id": "543c07af-4e30-4dde-b4d4-fb808f0bc3ee",
   "metadata": {},
   "source": [
    "#### Use when you need to transform all elements of a collection."
   ]
  },
  {
   "cell_type": "code",
   "execution_count": 31,
   "id": "05cf7512-9977-470f-8c5e-994b3ce783e6",
   "metadata": {},
   "outputs": [
    {
     "name": "stdout",
     "output_type": "stream",
     "text": [
      "[1, 4, 9, 16, 25]\n"
     ]
    }
   ],
   "source": [
    "# Regular function to square a number\n",
    "def square(x):\n",
    "    # This function takes one argument (x) and returns its square (x * x).\n",
    "    # For example, if x is 2, it will return 4.\n",
    "    return x * x  # Returns the square of x\n",
    "\n",
    "# List of numbers to be squared\n",
    "numbers = [1, 2, 3, 4, 5]  # A list containing numbers from 1 to 5\n",
    "\n",
    "# Using map() to apply the 'square' function to each number in the 'numbers' list\n",
    "# 'map()' applies the 'square' function to each element in the 'numbers' list.\n",
    "# However, 'map()' itself doesn't return a list; it returns a 'map object', which is an iterator.\n",
    "# To get the results as a list, we wrap 'map()' with the 'list()' function to convert the map object into a list.\n",
    "squared_numbers = list(map(square, numbers))\n",
    "\n",
    "# Print the squared numbers\n",
    "print(squared_numbers)  # This will print the squared results: [1, 4, 9, 16, 25]\n",
    "\n",
    "# What happens here:\n",
    "# 1. The map() function takes the 'square' function and applies it to each number in the 'numbers' list.\n",
    "# 2. For example, it first calls square(1), which returns 1.\n",
    "# 3. Then it calls square(2), which returns 4.\n",
    "# 4. This continues until all numbers are squared.\n",
    "# 5. The 'list()' function collects these results and gives a list: [1, 4, 9, 16, 25]."
   ]
  },
  {
   "cell_type": "markdown",
   "id": "02be1fb2-2963-4bfc-b26c-a5a0e5d6145c",
   "metadata": {},
   "source": [
    "### 2. `filter()`\n",
    "\n",
    "**`filter()`** filters elements from an iterable (like a list or tuple) based on a condition defined in a function. The function should return either `True` or `False` for each element. `filter()` will return a new iterable containing only the elements for which the function returns `True`.\n",
    "\n",
    "#### Syntax:\n",
    "```python\n",
    "filter(function, iterable)"
   ]
  },
  {
   "cell_type": "markdown",
   "id": "75751a83-d942-4eab-903d-8c32d448a523",
   "metadata": {},
   "source": [
    "- **`function`**: A function that checks each element and returns `True` or `False`. Only elements that return `True` are included in the result.\n",
    "- **`iterable`**: A list, tuple, or any other iterable object that will be filtered.\n",
    "\n",
    "In simpler terms, `filter()` helps you select specific items from a collection based on a condition, without the need for a `for` loop. It processes each item and only keeps those that satisfy the condition."
   ]
  },
  {
   "cell_type": "markdown",
   "id": "7a14c1e6-76e3-450e-9c83-d1035a2ccc09",
   "metadata": {},
   "source": [
    "#### Use when you need to filter out items from a collection based on a condition."
   ]
  },
  {
   "cell_type": "code",
   "execution_count": 34,
   "id": "a8d6b992-459d-4266-b9dc-d53039ddb4b4",
   "metadata": {},
   "outputs": [
    {
     "name": "stdout",
     "output_type": "stream",
     "text": [
      "[2, 4, 6]\n"
     ]
    }
   ],
   "source": [
    "# Function to check if a number is even\n",
    "def is_even(x):\n",
    "    # This function returns True if the number 'x' is even (i.e., divisible by 2 with no remainder)\n",
    "    # If x is divisible by 2, the expression 'x % 2 == 0' will be True, otherwise False.\n",
    "    return x % 2 == 0  # Returns True if x is even, False if x is odd\n",
    "\n",
    "# List of numbers to be filtered\n",
    "numbers = [1, 2, 3, 4, 5, 6]  # A list of integers from 1 to 6\n",
    "\n",
    "# Using filter() to apply the 'is_even' function to each element in the 'numbers' list\n",
    "# filter() will call 'is_even()' for each number in the list:\n",
    "# - For 1: is_even(1) -> False (1 is odd, so it's excluded)\n",
    "# - For 2: is_even(2) -> True (2 is even, so it's included)\n",
    "# - For 3: is_even(3) -> False (3 is odd, so it's excluded)\n",
    "# - For 4: is_even(4) -> True (4 is even, so it's included)\n",
    "# - For 5: is_even(5) -> False (5 is odd, so it's excluded)\n",
    "# - For 6: is_even(6) -> True (6 is even, so it's included)\n",
    "# The filter() function will return only the elements where is_even() returned True.\n",
    "# Since filter() returns a filter object (an iterator), we convert it into a list using list().\n",
    "even_numbers = list(filter(is_even, numbers))\n",
    "\n",
    "# Print the filtered even numbers\n",
    "print(even_numbers)  # Output: [2, 4, 6]"
   ]
  },
  {
   "cell_type": "markdown",
   "id": "c0a8e1d5-9e5a-4782-8bc6-519c3d6d39bd",
   "metadata": {},
   "source": [
    "### 3. `reduce()`\n",
    "\n",
    "**`reduce()`** repeatedly applies a binary function (a function that takes two arguments) to the elements of an iterable, reducing it to a single cumulative value. It's useful when you need to **combine all elements of a collection into a single value** (e.g., summing or multiplying all numbers in a list). \n",
    "\n",
    "`reduce()` is part of the `functools` module, so you need to import it before using.\n",
    "\n",
    "#### Syntax:\n",
    "```python\n",
    "from functools import reduce\n",
    "reduce(function, iterable)"
   ]
  },
  {
   "cell_type": "markdown",
   "id": "2ea7bc23-085f-4ad5-a4fd-9922e8017a05",
   "metadata": {},
   "source": [
    "#### Use when you need to aggregate all elements in a collection into a single result."
   ]
  },
  {
   "cell_type": "code",
   "execution_count": 36,
   "id": "806da744-4269-4ebc-9d83-6e53db7d316b",
   "metadata": {},
   "outputs": [
    {
     "name": "stdout",
     "output_type": "stream",
     "text": [
      "15\n"
     ]
    }
   ],
   "source": [
    "# Import reduce from the functools module\n",
    "# 'reduce()' is not built-in like 'map()' or 'filter()', so we need to import it from the functools module.\n",
    "from functools import reduce\n",
    "\n",
    "# Regular function to add two numbers\n",
    "def add(x, y):\n",
    "    # This function takes two arguments 'x' and 'y' and returns their sum.\n",
    "    # For example, add(2, 3) will return 5.\n",
    "    return x + y  # Returns the sum of x and y\n",
    "\n",
    "# List of numbers to be summed up\n",
    "numbers = [1, 2, 3, 4, 5]  # A list of integers from 1 to 5\n",
    "\n",
    "# Using reduce() to apply the 'add' function cumulatively to the 'numbers' list\n",
    "# Here's how reduce() works in this example:\n",
    "# - Step 1: First, reduce() calls add(1, 2), which returns 3.\n",
    "# - Step 2: Then, it takes the result (3) and the next element (3) -> add(3, 3) -> returns 6.\n",
    "# - Step 3: Next, reduce() takes the result (6) and the next element (4) -> add(6, 4) -> returns 10.\n",
    "# - Step 4: Finally, reduce() takes the result (10) and the last element (5) -> add(10, 5) -> returns 15.\n",
    "# The final result is 15, which is the sum of all elements in the list.\n",
    "sum_of_numbers = reduce(add, numbers)\n",
    "\n",
    "# Print the result of the cumulative sum\n",
    "print(sum_of_numbers)  # Output: 15\n",
    "\n",
    "# Explanation:\n",
    "# The reduce() function processes the list from left to right, applying the 'add' function cumulatively.\n",
    "# It effectively reduces the entire list to a single value (the sum of all elements).\n",
    "# In this case, it computes: 1 + 2 + 3 + 4 + 5 = 15"
   ]
  },
  {
   "cell_type": "markdown",
   "id": "44f6f81c-f757-44a7-a2ea-69b2b6851695",
   "metadata": {},
   "source": [
    "![Map, Filter, and Reduce Explained with Emoji](https://tonyj.me/media/images/map-reduce-filter.jpg)\n",
    "\n",
    "This image humorously explains **map()**, **filter()**, and **reduce()** functions in Python using emojis.\n",
    "\n",
    "1. **map()**:\n",
    "   - Takes a list of ingredients (represented by emojis like 🐄, 🍠, 🐓, 🌽) and applies a function called `cook`, which transforms the raw ingredients into cooked food (🍔, 🍟, 🍗, 🍿).\n",
    "   - The result is a new list of cooked food.\n",
    "\n",
    "2. **filter()**:\n",
    "   - Filters a list of food (🍔, 🍟, 🍗, 🍿) based on a function called `isVegetarian`, which checks whether the food is vegetarian.\n",
    "   - The result is a new list with only the vegetarian options (🍟, 🍿).\n",
    "\n",
    "3. **reduce()**:\n",
    "   - Takes a list of food (🍔, 🍟, 🍗) and applies a function called `eat`, reducing it to a single value (💪), representing the strength gained from eating all the food."
   ]
  },
  {
   "cell_type": "markdown",
   "id": "7f83a469-33fa-4579-970c-eb8fe26490d0",
   "metadata": {},
   "source": [
    "### Example: Working with a List of Prices\n",
    "\n",
    "Let's imagine we're working with a list of prices, and we want to apply the following operations:\n",
    "\n",
    "1. **`map()`**: Convert prices in different currencies (let's say Euros) to Dollars.\n",
    "2. **`filter()`**: Only keep prices that are greater than 20 Dollars.\n",
    "3. **`reduce()`**: Sum up all the prices that are greater than $20."
   ]
  },
  {
   "cell_type": "code",
   "execution_count": 37,
   "id": "b2a5dbd0-cdf0-42fc-817d-b98c820865f2",
   "metadata": {},
   "outputs": [
    {
     "name": "stdout",
     "output_type": "stream",
     "text": [
      "Prices in Dollars: [16.5, 27.500000000000004, 33.0, 11.0, 49.50000000000001, 55.00000000000001]\n",
      "Prices above $20: [27.500000000000004, 33.0, 49.50000000000001, 55.00000000000001]\n",
      "Total of prices above $20: 165.0\n"
     ]
    }
   ],
   "source": [
    "# Importing 'reduce' from functools as it's not built-in like 'map' and 'filter'\n",
    "from functools import reduce\n",
    "\n",
    "# List of prices in Euros\n",
    "prices_in_euros = [15, 25, 30, 10, 45, 50]\n",
    "\n",
    "# Conversion rate from Euros to Dollars (assuming 1 Euro = 1.1 USD)\n",
    "conversion_rate = 1.1\n",
    "\n",
    "# Step 1: Using map() to convert Euros to Dollars\n",
    "# 'map()' applies the conversion function to each element in the list 'prices_in_euros'\n",
    "# The lambda function multiplies each price by the conversion rate to convert it to dollars\n",
    "prices_in_dollars = list(map(lambda price: price * conversion_rate, prices_in_euros))\n",
    "\n",
    "# Step 2: Using filter() to filter out prices less than $20\n",
    "# 'filter()' applies the lambda function that returns True for prices greater than or equal to $20\n",
    "# Only prices >= 20 are included in the result\n",
    "prices_above_20 = list(filter(lambda price: price >= 20, prices_in_dollars))\n",
    "\n",
    "# Step 3: Using reduce() to sum up the filtered prices\n",
    "# 'reduce()' applies the lambda function that adds two numbers cumulatively to sum the list\n",
    "# The result is the total of all prices above $20\n",
    "total_price = reduce(lambda x, y: x + y, prices_above_20)\n",
    "\n",
    "# Print the intermediate results and final total\n",
    "print(f\"Prices in Dollars: {prices_in_dollars}\")  # Output: Converted prices in dollars\n",
    "print(f\"Prices above $20: {prices_above_20}\")     # Output: Filtered prices above $20\n",
    "print(f\"Total of prices above $20: {total_price}\")  # Output: Sum of prices greater than $20"
   ]
  },
  {
   "cell_type": "markdown",
   "id": "366d4ea9-a17f-4900-b332-8d028be87d4a",
   "metadata": {},
   "source": [
    "# Data Structures in Python: Stacks and Queues\n",
    "\n",
    "In this section, we’ll explore **stacks** and **queues**, which are different from data structures like **lists**, **dictionaries**, **sets**, and **tuples** that you may already be familiar with.\n",
    "\n",
    "## Why Are Data Structures Useful?\n",
    "\n",
    "Data structures are essential because they help **organize**, **manage**, and **store data efficiently**. The choice of a data structure directly affects the **performance** and **capabilities** of your program, influencing how quickly data can be accessed, modified, or removed. Different data structures serve different purposes depending on how you want to process or interact with the data.\n",
    "\n",
    "- **Lists**: Ordered, mutable collections of items that can be accessed by index.\n",
    "- **Dictionaries**: Store key-value pairs, allowing fast lookups by key.\n",
    "- **Sets**: Unordered collections of unique items.\n",
    "- **Tuples**: Ordered, immutable collections of items.\n",
    "\n",
    "While these are great for basic tasks, sometimes you need more specialized structures like **stacks** or **queues** to handle specific problems more efficiently."
   ]
  },
  {
   "cell_type": "markdown",
   "id": "843b0098-016b-49c6-bb16-0863b96ced88",
   "metadata": {},
   "source": [
    "## Stacks\n",
    "\n",
    "### What is a Stack?\n",
    "\n",
    "A **stack** is a **linear data structure** that follows the principle of **Last In, First Out (LIFO)**. This means that the **last** element added to the stack is the **first** one to be removed. \n",
    "\n",
    "- **Push**: Adding an item to the top of the stack.\n",
    "- **Pop**: Removing the item from the top of the stack.\n",
    "\n",
    "![Stacks](https://logicmojo.com/assets/dist/new_pages/images/stack-in-data-structure.webp)\n",
    "  \n",
    "Stacks can be visualized like a stack of plates, where the last plate placed on top is the first one to be taken off.\n",
    "\n",
    "### When to Use a Stack?\n",
    "\n",
    "Stacks are useful when you need to **reverse the order of operations** or **keep track of execution** in a nested manner. Some common use cases for stacks include:\n",
    "- **Backtracking**: In algorithms that explore possibilities (e.g., solving a maze), you can use a stack to remember the steps you've taken.\n",
    "- **Undo operations**: Text editors or graphic software use stacks to **undo** recent actions. Every action (e.g., typing, drawing) is pushed onto the stack, and when you click \"Undo\", the most recent action is popped off.\n",
    "- **Function calls**: In programming, function calls are managed via a **call stack**. Each time a function is called, its state is pushed onto the stack. When the function ends, its state is popped off the stack.\n",
    "\n",
    "### Real-World Examples of Stacks in Daily Life\n",
    "\n",
    "1. **Browser History**: Web browsers implement a stack to keep track of the pages you visit. Every time you click on a link, the current page is pushed onto the stack. When you hit the \"Back\" button, the most recent page is popped off, and you're returned to the previous one.\n",
    "   \n",
    "2. **Undo Feature in Applications**: Applications like **Microsoft Word** or **Photoshop** use stacks to handle undo operations. Each time you make a change, it gets added to the stack. When you press \"Undo\", the most recent change is popped from the stack, allowing you to revert to the previous state.\n",
    "\n",
    "3. **Plates in a Restaurant**: Think about a stack of plates in a cafeteria. You place plates on top of each other. The plate that was placed last is the first to be taken off. This is a perfect example of **Last In, First Out (LIFO)**.\n"
   ]
  },
  {
   "cell_type": "code",
   "execution_count": 39,
   "id": "d89ff933-51e7-41c7-b123-c3fac89483fd",
   "metadata": {},
   "outputs": [
    {
     "name": "stdout",
     "output_type": "stream",
     "text": [
      "Initial stack: []\n",
      "After pushing 'Plate 1': ['Plate 1']\n",
      "After pushing 'Plate 2': ['Plate 1', 'Plate 2']\n",
      "After pushing 'Plate 3': ['Plate 1', 'Plate 2', 'Plate 3']\n",
      "Popped item: Plate 3\n",
      "Stack after popping 'Plate 3': ['Plate 1', 'Plate 2']\n",
      "Popped item: Plate 2\n",
      "Stack after popping 'Plate 2': ['Plate 1']\n",
      "Final stack: ['Plate 1']\n"
     ]
    }
   ],
   "source": [
    "# Stack implementation using a list\n",
    "stack = []\n",
    "\n",
    "# Initially, the stack is empty\n",
    "print(f\"Initial stack: {stack}\")  # Output: []\n",
    "\n",
    "# Push items onto the stack using 'append()' (equivalent to push in other languages)\n",
    "stack.append('Plate 1')  # Adding 'Plate 1' to the stack\n",
    "print(f\"After pushing 'Plate 1': {stack}\")  # Stack: ['Plate 1']\n",
    "\n",
    "stack.append('Plate 2')  # Adding 'Plate 2' to the stack\n",
    "print(f\"After pushing 'Plate 2': {stack}\")  # Stack: ['Plate 1', 'Plate 2']\n",
    "\n",
    "stack.append('Plate 3')  # Adding 'Plate 3' to the stack\n",
    "print(f\"After pushing 'Plate 3': {stack}\")  # Stack: ['Plate 1', 'Plate 2', 'Plate 3']\n",
    "\n",
    "# Pop items from the stack (LIFO) using 'pop()'\n",
    "# Stack follows LIFO: the last item pushed (Plate 3) is the first one to be popped\n",
    "popped_item = stack.pop()  # Removes 'Plate 3'\n",
    "print(f\"Popped item: {popped_item}\")  # Output: 'Plate 3'\n",
    "print(f\"Stack after popping 'Plate 3': {stack}\")  # Stack: ['Plate 1', 'Plate 2']\n",
    "\n",
    "# Pop another item (LIFO) - 'Plate 2' was added before 'Plate 3', so it gets removed next\n",
    "popped_item = stack.pop()  # Removes 'Plate 2'\n",
    "print(f\"Popped item: {popped_item}\")  # Output: 'Plate 2'\n",
    "print(f\"Stack after popping 'Plate 2': {stack}\")  # Stack: ['Plate 1']\n",
    "\n",
    "# Final state of the stack\n",
    "print(f\"Final stack: {stack}\")  # Output: ['Plate 1']"
   ]
  },
  {
   "cell_type": "markdown",
   "id": "f2b0f1c5-9b12-4ba3-b664-488168128b43",
   "metadata": {},
   "source": [
    "### Problem: Implementing an \"Undo\" Feature in a Word Processor\n",
    "\n",
    "As a developer working on a new word processor, you need to create an **undo** feature that allows users to backtrack their actions step by step. This feature is crucial for improving user experience, enabling them to revert changes they made, such as typing text, deleting content, or formatting.\n",
    "\n",
    "### Why Use a Stack?\n",
    "\n",
    "A **stack** is ideal for implementing an undo feature because of its **Last In, First Out (LIFO)** nature. The most recent action performed by the user (e.g., typing a word, formatting text) is the first action they would want to undo. The stack will help us keep track of these actions in the correct order.\n",
    "\n",
    "- **Push**: Every time the user performs an action (e.g., typing a word), we push that action onto the stack.\n",
    "- **Pop**: When the user clicks \"Undo\", we pop the last action from the stack and reverse it.\n",
    "\n",
    "### How the Undo Feature Works:\n",
    "\n",
    "1. **Push Operations**: \n",
    "   - When the user types or performs an action, we **push** that action onto the stack.\n",
    "   - Example: Typing a word like `\"Hello\"` will push the action `(\"type\", \"Hello\")` onto the stack.\n",
    "\n",
    "2. **Pop Operations**: \n",
    "   - When the user clicks \"Undo\", we **pop** the last action from the stack.\n",
    "   - Example: If the last action was typing `\"Hello\"`, undoing will remove `\"Hello\"` from the content."
   ]
  },
  {
   "cell_type": "code",
   "execution_count": 40,
   "id": "4237ba30-89ac-4640-bc71-d6e2be553f29",
   "metadata": {},
   "outputs": [
    {
     "name": "stdout",
     "output_type": "stream",
     "text": [
      "Typed: Hello\n",
      "Current Content: 'Hello'\n",
      "Typed:  World\n",
      "Current Content: 'Hello World'\n",
      "Undo typing:  World\n",
      "Current Content: 'Hello'\n",
      "Undo typing: Hello\n",
      "Current Content: ''\n"
     ]
    }
   ],
   "source": [
    "class WordProcessor:\n",
    "    def __init__(self):\n",
    "        # Initialize the content of the document as an empty string\n",
    "        self.content = \"\"  \n",
    "        # Initialize an empty stack (list) to store actions for the undo feature\n",
    "        self.action_stack = []  \n",
    "    \n",
    "    # Function to add text to the document\n",
    "    def type_text(self, text):\n",
    "        # Record the action of typing by pushing a tuple (\"type\", text) onto the stack\n",
    "        self.action_stack.append((\"type\", text))  \n",
    "        # Append the typed text to the current content of the document\n",
    "        self.content += text  \n",
    "        print(f\"Typed: {text}\")\n",
    "    \n",
    "    # Function to undo the last action performed\n",
    "    def undo(self):\n",
    "        # If the stack is empty, there's no action to undo\n",
    "        if not self.action_stack:\n",
    "            print(\"No actions to undo.\")\n",
    "            return\n",
    "        \n",
    "        # Pop the last action from the stack (undo the most recent action)\n",
    "        last_action = self.action_stack.pop()  \n",
    "        \n",
    "        # Check if the last action was typing text\n",
    "        if last_action[0] == \"type\":\n",
    "            # Retrieve the text to remove from the tuple (action type, text)\n",
    "            text_to_remove = last_action[1]\n",
    "            # Remove the last typed text from the document content using slicing\n",
    "            # The length of the text being removed is used to slice it off the end\n",
    "            self.content = self.content[:-len(text_to_remove)]\n",
    "            print(f\"Undo typing: {text_to_remove}\")\n",
    "    \n",
    "    # Function to display the current content of the document\n",
    "    def display_content(self):\n",
    "        # Print the current content stored in the document\n",
    "        print(f\"Current Content: '{self.content}'\")\n",
    "\n",
    "\n",
    "# Test the WordProcessor class with undo feature\n",
    "processor = WordProcessor()\n",
    "\n",
    "# Typing some text\n",
    "processor.type_text(\"Hello\")  # Adds \"Hello\" to the document\n",
    "processor.display_content()  # Output: Current Content: 'Hello'\n",
    "\n",
    "processor.type_text(\" World\")  # Adds \" World\" to the document\n",
    "processor.display_content()  # Output: Current Content: 'Hello World'\n",
    "\n",
    "# Undo the last action (removes \" World\")\n",
    "processor.undo()  # Output: Undo typing: ' World'\n",
    "processor.display_content()  # Output: Current Content: 'Hello'\n",
    "\n",
    "# Undo another action (removes \"Hello\")\n",
    "processor.undo()  # Output: Undo typing: 'Hello'\n",
    "processor.display_content()  # Output: Current Content: ''"
   ]
  },
  {
   "cell_type": "markdown",
   "id": "86f865d6-fa68-49e9-85e1-d7ca4ea38971",
   "metadata": {},
   "source": [
    "## Queues\n",
    "\n",
    "### What is a Queue?\n",
    "\n",
    "A **queue** is a **linear data structure** that follows the principle of **First In, First Out (FIFO)**. This means that the **first** element added to the queue is the **first** one to be removed. Queues are similar to lines at a store: the first person in line is the first to be served.\n",
    "\n",
    "- **Enqueue**: Adding an element to the back of the queue.\n",
    "- **Dequeue**: Removing an element from the front of the queue.\n",
    "\n",
    "![Queues](https://cdn.programiz.com/sites/tutorial2program/files/queue.png)\n",
    "\n",
    "\n",
    "### When to Use a Queue?\n",
    "\n",
    "Queues are used when **order matters**, and the sequence in which data is processed or retrieved needs to match the order in which it was added. Queues are ideal in scenarios where:\n",
    "- You need to manage tasks in the order they were added.\n",
    "- You need to process requests or items **sequentially**.\n",
    "\n",
    "### Real Examples in Daily Life\n",
    "\n",
    "1. **Waiting in Line (Queue at a Store)**:\n",
    "   - When you stand in line at a store or bank, the first person in line is served first. Everyone is served in the order they arrived. This is a perfect example of **First In, First Out (FIFO)**.\n",
    "\n",
    "2. **Task Scheduling**:\n",
    "   - In computer systems, the operating system manages multiple tasks or processes. It uses a **queue** to manage these processes, ensuring they are executed in the order they were added to the queue.\n",
    "\n",
    "3. **Customer Service**:\n",
    "   - In customer service systems, like call centers, incoming calls are placed in a queue. The first customer to call will be the first to get assistance, while others wait in line.\n",
    "\n",
    "4. **Printer Queue**:\n",
    "   - When you send multiple print jobs to a printer, they are processed in the order they were sent. The first document in the queue gets printed first."
   ]
  },
  {
   "cell_type": "code",
   "execution_count": 41,
   "id": "f19c174e-8f12-4d8f-89ae-fe3ba492bfed",
   "metadata": {},
   "outputs": [
    {
     "name": "stdout",
     "output_type": "stream",
     "text": [
      "Person 1\n",
      "Person 2\n",
      "deque(['Person 3'])\n"
     ]
    }
   ],
   "source": [
    "from collections import deque  # Import deque from the collections module\n",
    "\n",
    "# Create a queue using deque\n",
    "# deque (double-ended queue) allows for fast appends and pops from both ends of the queue\n",
    "queue = deque()\n",
    "\n",
    "# Enqueue items to the queue\n",
    "# Append means we are adding an item to the **back** of the queue (FIFO behavior)\n",
    "queue.append(\"Person 1\")  # Queue: ['Person 1'] (First person joins the queue)\n",
    "queue.append(\"Person 2\")  # Queue: ['Person 1', 'Person 2'] (Second person joins after the first)\n",
    "queue.append(\"Person 3\")  # Queue: ['Person 1', 'Person 2', 'Person 3'] (Third person joins at the end)\n",
    "\n",
    "# Dequeue items from the queue (FIFO - First In, First Out)\n",
    "# The popleft() function removes and returns the item from the **front** of the queue (FIFO)\n",
    "# The first person to enter the queue is the first one to leave\n",
    "print(queue.popleft())  # Output: 'Person 1' (First person leaves the queue)\n",
    "\n",
    "# The next person to leave is 'Person 2', who is now at the front of the queue\n",
    "print(queue.popleft())  # Output: 'Person 2'\n",
    "\n",
    "# Print the remaining queue\n",
    "# Now, only 'Person 3' remains in the queue, as 'Person 1' and 'Person 2' have been dequeued\n",
    "print(queue)  # Output: deque(['Person 3'])"
   ]
  },
  {
   "cell_type": "markdown",
   "id": "56d9ac0a-80ff-40ec-90dd-cdc0219c902a",
   "metadata": {},
   "source": [
    "### Problem: Implementing a Task Scheduler Using a Queue\n",
    "\n",
    "As a developer, you are tasked with building a **task scheduler** that processes tasks in the order they are received. The system needs to execute the tasks in a **First In, First Out (FIFO)** manner, ensuring that the first task added is the first one processed.\n",
    "\n",
    "### Why Use a Queue?\n",
    "\n",
    "A **queue** is ideal for task scheduling because tasks should be executed in the same order they are added. This is exactly what the **FIFO (First In, First Out)** principle guarantees.\n",
    "\n",
    "- **Enqueue**: When a new task arrives, it gets added to the **back of the queue**.\n",
    "- **Dequeue**: The scheduler processes tasks by removing them from the **front of the queue**.\n",
    "\n",
    "Queues ensure that tasks are processed in the exact sequence in which they arrive, making it an appropriate data structure for a task scheduler."
   ]
  },
  {
   "cell_type": "code",
   "execution_count": 42,
   "id": "b7e75ab6-8edb-4dcc-a546-36200931cf45",
   "metadata": {},
   "outputs": [
    {
     "name": "stdout",
     "output_type": "stream",
     "text": [
      "Task added: Send email\n",
      "Task added: Generate report\n",
      "Task added: Run backup\n",
      "Tasks in queue: ['Send email', 'Generate report', 'Run backup']\n",
      "Processing task: Send email\n",
      "Processing task: Generate report\n",
      "Tasks in queue: ['Run backup']\n",
      "Processing task: Run backup\n",
      "No tasks to process.\n"
     ]
    }
   ],
   "source": [
    "from collections import deque\n",
    "\n",
    "class TaskScheduler:\n",
    "    def __init__(self):\n",
    "        # Initialize an empty queue to store tasks\n",
    "        self.task_queue = deque()\n",
    "    \n",
    "    # Function to add a task to the scheduler\n",
    "    def add_task(self, task):\n",
    "        self.task_queue.append(task)  # Enqueue task to the back of the queue\n",
    "        print(f\"Task added: {task}\")\n",
    "    \n",
    "    # Function to process the next task in the queue\n",
    "    def process_task(self):\n",
    "        if self.task_queue:\n",
    "            task = self.task_queue.popleft()  # Dequeue task from the front\n",
    "            print(f\"Processing task: {task}\")\n",
    "        else:\n",
    "            print(\"No tasks to process.\")\n",
    "    \n",
    "    # Function to display the tasks in the queue\n",
    "    def display_tasks(self):\n",
    "        print(f\"Tasks in queue: {list(self.task_queue)}\")\n",
    "\n",
    "# Example usage of TaskScheduler\n",
    "scheduler = TaskScheduler()\n",
    "\n",
    "# Adding tasks to the scheduler\n",
    "scheduler.add_task(\"Send email\")\n",
    "scheduler.add_task(\"Generate report\")\n",
    "scheduler.add_task(\"Run backup\")\n",
    "\n",
    "# Display current tasks in the queue\n",
    "scheduler.display_tasks()  # Output: ['Send email', 'Generate report', 'Run backup']\n",
    "\n",
    "# Processing tasks in FIFO order\n",
    "scheduler.process_task()  # Output: Processing task: Send email\n",
    "scheduler.process_task()  # Output: Processing task: Generate report\n",
    "\n",
    "# Display remaining tasks\n",
    "scheduler.display_tasks()  # Output: ['Run backup']\n",
    "\n",
    "# Process remaining tasks\n",
    "scheduler.process_task()  # Output: Processing task: Run backup\n",
    "scheduler.process_task()  # Output: No tasks to process."
   ]
  },
  {
   "cell_type": "code",
   "execution_count": null,
   "id": "676ec1a5-cdef-46a2-81dd-f7d161223310",
   "metadata": {},
   "outputs": [],
   "source": []
  }
 ],
 "metadata": {
  "kernelspec": {
   "display_name": "Python 3 (ipykernel)",
   "language": "python",
   "name": "python3"
  },
  "language_info": {
   "codemirror_mode": {
    "name": "ipython",
    "version": 3
   },
   "file_extension": ".py",
   "mimetype": "text/x-python",
   "name": "python",
   "nbconvert_exporter": "python",
   "pygments_lexer": "ipython3",
   "version": "3.12.5"
  }
 },
 "nbformat": 4,
 "nbformat_minor": 5
}
