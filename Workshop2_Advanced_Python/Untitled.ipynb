{
 "cells": [
  {
   "cell_type": "code",
   "execution_count": null,
   "id": "9a7069c6-4887-4f76-9a99-232b9fbaddce",
   "metadata": {},
   "outputs": [],
   "source": []
  }
 ],
 "metadata": {
  "kernelspec": {
   "display_name": "",
   "name": ""
  },
  "language_info": {
   "name": ""
  }
 },
 "nbformat": 4,
 "nbformat_minor": 5
}
